{
 "cells": [
  {
   "cell_type": "code",
   "execution_count": 1,
   "id": "2555a06c",
   "metadata": {},
   "outputs": [],
   "source": [
    "import numpy as np \n",
    "import matplotlib.pyplot as plt \n",
    "from scipy.integrate import solve_ivp "
   ]
  },
  {
   "cell_type": "code",
   "execution_count": 2,
   "id": "30040f72",
   "metadata": {},
   "outputs": [],
   "source": [
    "def f(r,V,k,m,a,c,α):\n",
    "    Γtr_t = (m * r * (r**5 + 2 * m * r**4 - 2 * m * a**2 * r**2 ))\\\n",
    "    /(r**2 * (r**6 - 4 * m**2 * r**4 + 4 * a**2 * m**2 * r**2)); \n",
    "    Γrt_t = Γtr_t;\n",
    "    Γrϕ_t = -(m * a * r * (3 * r + 4 * m))\\\n",
    "    /(r**4 - 4 * r**2 * m**2 + 4 * a**2 * m**2); \n",
    "    Γϕr_t = Γrϕ_t;\n",
    "    Γtt_r = (m)/(r * (r**2 + 2*m)); \n",
    "    Γtϕ_r = - (m * a)/(r * (r + 2 * m));\n",
    "    Γϕt_r = Γtϕ_r;\n",
    "    Γrr_r = - (m)/(r * (r + 2 * m));  \n",
    "    Γrz_z = Γrr_r;\n",
    "    Γzr_z = Γrr_r;\n",
    "    Γzz_r = -Γrr_r ;\n",
    "    Γϕϕ_r = -(r * (r + m))/(r + 2 * m);\n",
    "    Γtr_ϕ = (a * m)/(r**4 - 4 * r**2 * m**2 + 4 * a**2 * m**2); \n",
    "    Γrt_ϕ = Γtr_ϕ;\n",
    "    Γrϕ_ϕ = -(r**3 * m - r**4 + 2 * r**2 * m**2 + 2 * a**2 * m**2)\\\n",
    "    /(r**4 - 4 * r**2 * m**2 + 4 * a**2 * m**2); \n",
    "    Γϕr_ϕ = Γrϕ_ϕ;\n",
    "    g_tϕ = r/(2*m*a);\n",
    "    g_ϕϕ = -1.0/(r**2 + 2*m*r);\n",
    "    g_rr = -r/(r+2*m);\n",
    "    ρ = r**-1.5;\n",
    "    dρ = -1.5*(r**-2.5);\n",
    "    P = k*(r**-2.5);\n",
    "    dP = -2.5*k*(r**-3.5);\n",
    "    Vr,Vϕ,Bϕ = V;\n",
    "    γ = 1/(np.sqrt(1 - (Vr**2 + Vϕ**2)));\n",
    "    U0 = γ;  \n",
    "    Ur = γ*Vr;    \n",
    "    Uϕ = γ*Vϕ;\n",
    "    L1 = Vr*(dρ+dP) + (ρ+P)*Vr*(Γrr_r+Γϕr_ϕ+Γzr_z-Γrt_t-Vϕ*(Γrϕ_t+Γϕr_t));\n",
    "    Bd = (Bϕ*r**2)/(4*np.pi * (r+2*m)**2);\n",
    "    L3 = (4*m/(r*(r+2*m))) - (Γtr_t + Γϕr_ϕ+Γrz_z + Γrr_r);\n",
    "    dBϕdr = (-((Bd)*( r/(r+2*m) + 2*Vr*U0*Ur ))**-1)*\\\n",
    "    ((ρ+P)*U0**2 * ((-1.0/(ρ+P))*(L1 + (2*Ur*Bϕ/U0)*Bd*L3)*Vr +\\\n",
    "    Γtt_r - 2*Γtr_t*Vr**2 + 2*Vϕ*Γtϕ_r+Γrr_r*Vr**2 - Γϕr_t*Vϕ*Vr**2 - Γrϕ_t*Vϕ*Vr**2+\\\n",
    "    Γϕϕ_r*Vϕ**2) + (r/(r+2*m))*dP - (r/(r+2*m))*(L3));\n",
    "    L2 = -dBϕdr/Bϕ - (4*m/(r*(r+2*m))) - (Γtr_t + Γϕr_ϕ+Γrz_z + Γrr_r);\n",
    "    dVrdr = (-1.0/(ρ+P))*(L1 + (2*Bϕ*Ur/U0)*Bd*L2);\n",
    "    dVϕdr = -2*Γtr_ϕ + 2*Γtr_t*Vϕ-Vϕ*Γϕr_ϕ+Γϕr_t*Vϕ**2-Γrϕ_ϕ*Vϕ+Γrϕ_t*Vϕ**2 -\\\n",
    "    (1./(Vr*(ρ+P)*U0**2))*(g_tϕ + g_ϕϕ - (Ur+Uϕ)*Uϕ)*(2*Γϕr_ϕ*α*P - 2*α*dP);\n",
    "    dVdr = [dVrdr,dVϕdr,dBϕdr]\n",
    "    return dVdr"
   ]
  },
  {
   "cell_type": "code",
   "execution_count": 41,
   "id": "dfdc6fe3",
   "metadata": {},
   "outputs": [
    {
     "data": {
      "text/plain": [
       "[4.552281131690525, 43.54100471570974, 36061.18049437714]"
      ]
     },
     "execution_count": 41,
     "metadata": {},
     "output_type": "execute_result"
    }
   ],
   "source": [
    "f(1,[0.12,0.918,1e4],0.364,1e3,0.2,1,0.5)"
   ]
  },
  {
   "cell_type": "code",
   "execution_count": 34,
   "id": "8633f1a4",
   "metadata": {},
   "outputs": [
    {
     "name": "stderr",
     "output_type": "stream",
     "text": [
      "/tmp/ipykernel_8370/2869440027.py:29: RuntimeWarning: invalid value encountered in sqrt\n",
      "  γ = 1/(np.sqrt(1 - (Vr**2 + Vϕ**2)));\n",
      "/tmp/ipykernel_8370/2869440027.py:29: RuntimeWarning: divide by zero encountered in scalar divide\n",
      "  γ = 1/(np.sqrt(1 - (Vr**2 + Vϕ**2)));\n",
      "/tmp/ipykernel_8370/2869440027.py:37: RuntimeWarning: invalid value encountered in scalar divide\n",
      "  ((ρ+P)*U0**2 * ((-1.0/(ρ+P))*(L1 + (2*Ur*Bϕ/U0)*Bd*L3)*Vr +\\\n",
      "/tmp/ipykernel_8370/2869440027.py:41: RuntimeWarning: invalid value encountered in scalar divide\n",
      "  dVrdr = (-1.0/(ρ+P))*(L1 + (2*Bϕ*Ur/U0)*Bd*L2);\n",
      "/tmp/ipykernel_8370/2869440027.py:43: RuntimeWarning: invalid value encountered in scalar multiply\n",
      "  (1./(Vr*(ρ+P)*U0**2))*(g_tϕ + g_ϕϕ - (Ur+Uϕ)*Uϕ)*(2*Γϕr_ϕ*α*P - 2*α*dP);\n"
     ]
    }
   ],
   "source": [
    "V = solve_ivp(fun=f, t_span=[4,100], y0=[0.48,0.618,1e5],\n",
    "              args=(0.364,1e7,0.2,1,0.5), dense_output=True)"
   ]
  },
  {
   "cell_type": "code",
   "execution_count": null,
   "id": "3f789ac0",
   "metadata": {},
   "outputs": [],
   "source": []
  },
  {
   "cell_type": "code",
   "execution_count": 33,
   "id": "66d8f4c4",
   "metadata": {},
   "outputs": [],
   "source": [
    "# a = 0.2\n",
    "P1 = V"
   ]
  },
  {
   "cell_type": "code",
   "execution_count": 35,
   "id": "a382b553",
   "metadata": {},
   "outputs": [],
   "source": [
    "# a = 0.8\n",
    "P2 = V"
   ]
  },
  {
   "cell_type": "code",
   "execution_count": 10,
   "id": "b466d16d",
   "metadata": {},
   "outputs": [
    {
     "data": {
      "image/png": "[encoded data removed]",
      "text/plain": [
       "<Figure size 640x480 with 1 Axes>"
      ]
     },
     "metadata": {},
     "output_type": "display_data"
    }
   ],
   "source": [
    "t = np.linspace(4,100,V.y.shape[1])\n",
    "# t.shape\n",
    "plt.plot(t,V.y[2])\n",
    "plt.show()"
   ]
  },
  {
   "cell_type": "code",
   "execution_count": 25,
   "id": "f6bb0229",
   "metadata": {},
   "outputs": [
    {
     "data": {
      "text/plain": [
       "(3, 46)"
      ]
     },
     "execution_count": 25,
     "metadata": {},
     "output_type": "execute_result"
    }
   ],
   "source": [
    "t = np.linspace(4,100,V.y.shape[1])\n",
    "# t.shape\n",
    "plt.plot(t,V.y[1])\n",
    "plt.show()"
   ]
  },
  {
   "cell_type": "code",
   "execution_count": 43,
   "id": "6a8ee04b",
   "metadata": {},
   "outputs": [
    {
     "name": "stdout",
     "output_type": "stream",
     "text": [
      "46\n",
      "48\n"
     ]
    },
    {
     "data": {
      "text/plain": [
       "46"
      ]
     },
     "execution_count": 43,
     "metadata": {},
     "output_type": "execute_result"
    }
   ],
   "source": [
    "print(P1.y.shape[1])\n",
    "print(P2.y.shape[1])\n",
    "min(P2.y.shape[1], P1.y.shape[1])"
   ]
  },
  {
   "cell_type": "code",
   "execution_count": 17,
   "id": "536963a5",
   "metadata": {},
   "outputs": [
    {
     "data": {
      "text/plain": [
       "(27,)"
      ]
     },
     "execution_count": 17,
     "metadata": {},
     "output_type": "execute_result"
    }
   ],
   "source": [
    "P2.y[0,0:46].shape"
   ]
  },
  {
   "cell_type": "code",
   "execution_count": 20,
   "id": "3a664bfb",
   "metadata": {},
   "outputs": [
    {
     "data": {
      "text/plain": [
       "(3, 27)"
      ]
     },
     "execution_count": 20,
     "metadata": {},
     "output_type": "execute_result"
    }
   ],
   "source": []
  },
  {
   "cell_type": "code",
   "execution_count": 44,
   "id": "58efcdc3",
   "metadata": {},
   "outputs": [
    {
     "data": {
      "image/png": "[encoded data removed]",
      "text/plain": [
       "<Figure size 640x480 with 1 Axes>"
      ]
     },
     "metadata": {},
     "output_type": "display_data"
    }
   ],
   "source": [
    "dim = min(P2.y.shape[1], P1.y.shape[1])\n",
    "t = np.linspace(4,100,dim)\n",
    "plt.plot(t,P1.y[2,0:dim],'b')\n",
    "plt.plot(t,P2.y[2,0:dim],'r')\n",
    "plt.show()"
   ]
  },
  {
   "cell_type": "code",
   "execution_count": null,
   "id": "7cac55f8",
   "metadata": {},
   "outputs": [],
   "source": []
  }
 ],
 "metadata": {
  "kernelspec": {
   "display_name": "Python 3 (ipykernel)",
   "language": "python",
   "name": "python3"
  },
  "language_info": {
   "codemirror_mode": {
    "name": "ipython",
    "version": 3
   },
   "file_extension": ".py",
   "mimetype": "text/x-python",
   "name": "python",
   "nbconvert_exporter": "python",
   "pygments_lexer": "ipython3",
   "version": "3.9.13"
  }
 },
 "nbformat": 4,
 "nbformat_minor": 5
}
