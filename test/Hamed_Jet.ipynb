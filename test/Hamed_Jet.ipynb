{
 "cells": [
  {
   "cell_type": "code",
   "execution_count": 3,
   "id": "898213cc",
   "metadata": {},
   "outputs": [],
   "source": [
    "import numpy as np \n",
    "import matplotlib.pyplot as plt \n",
    "from scipy.integrate import solve_ivp "
   ]
  },
  {
   "cell_type": "code",
   "execution_count": 6,
   "id": "4f0e1b2f",
   "metadata": {},
   "outputs": [],
   "source": [
    "def f(z,V,k,m,a,R):                                     # def f(r,V,k,m,a,c,α):\n",
    "#     Vt = 1.0;\n",
    "#     R = 1.0;\n",
    "    #################################\n",
    "    # Γt\n",
    "    G = (1-4*m**2+3*z**2+4*a**2 * m**2 -8*m**2 * z**2 + 3*z**4 - 4*m**2 * z**4 + z**6)\n",
    "    ###\n",
    "    Γt_tr = (m*(z+2*z**3+z**5+2*m-a*m*a**2+4*m*z**2+4*m*a**2 * z**2 + 2*m*z**4))/ (z**2 * G)\n",
    "    Γt_tz = (m*z*(z+2*z**3+z**5+2*m-6*m*a**2+4*m*z**2+2*m*z**4))/(z**2 * G)\n",
    "    Γt_rt = Γt_tr\n",
    "    Γt_rϕ = (-m*a*(z+4*m))/(G)\n",
    "    Γt_ϕr = Γt_rϕ\n",
    "    Γt_ϕz = (-m*a*z*(3*z+4*m))/(G)\n",
    "    Γt_zt = Γt_tz\n",
    "    Γt_zϕ = Γt_ϕz\n",
    "    #################################\n",
    "    # Γr\n",
    "    H = (z+2*m)*z**2\n",
    "    ####\n",
    "    Γr_tt = m/H\n",
    "    Γr_tϕ = (2*m*a)/H\n",
    "    Γr_rr = -m/H\n",
    "    Γr_rz = -m*z/H\n",
    "    Γr_ϕt = 2*m*a/H\n",
    "    Γr_ϕϕ = -1*(z**3+m+2*m*z**2)/H\n",
    "    Γr_zr = (-m*z)/H\n",
    "    Γr_zz = m/H\n",
    "#######################\n",
    "    # Γϕ\n",
    "    Γϕ_tz = ((a*m*z)*(-4*m+3*z))/(G)\n",
    "    Γϕ_zϕ = (-1*(m*z)*(z+2*z**3+z**5-2*m+6*m*a**2-4*m*z**2-2*m*z**4))/((1+z**2)*G)\n",
    "    Γϕ_ϕz = -Γϕ_zϕ    \n",
    "#######################\n",
    "    # Γz\n",
    "    L = (1+z**2)*(z+2*m)\n",
    "    Γz_tt = (m*z)/(L)\n",
    "    Γz_tϕ = (-1*(3*m*a*z)/(L*(1+z**2)))\n",
    "    Γz_rr = (m*z)/(L)\n",
    "    Γz_rz = (-m*R)/(L)\n",
    "    Γz_ϕt = (-3*m*a*z*R**2)/(L*(1+z**2))\n",
    "    Γz_ϕϕ = (m*z)/(L*(1+z**2))\n",
    "    Γz_zr = -m/L\n",
    "    Γz_zz = (-m*z)/((1+z**2)*(np.sqrt(z)+2*m))\n",
    "#######################################\n",
    "#     γ = 1/(np.sqrt(1 - (Vr**2 + Vϕ**2)));\n",
    "    \n",
    "    \n",
    "#     Jr = 1.0;\n",
    "#     Jϕ = 1.0;\n",
    "#     Jz = 1.0;\n",
    "    Uϕ = 1.0;\n",
    "    U0 = 1.0;\n",
    "    \n",
    "    \n",
    "    \n",
    "    \n",
    "    \n",
    "#     Vr,Vϕ,Bϕ = V;\n",
    "    \n",
    "#     U0 = γ;  \n",
    "#     Ur = γ*Vr;    \n",
    "#     Uϕ = γ*Vϕ;\n",
    "####################################       # dVz_dz computation \n",
    "    A = (z**1.5 + k*z**2.5);\n",
    "    dVz_dz = (Γt_ϕz + Γt_zϕ)*(V[0]*V[1]) - \\\n",
    "    (2*V[2]*Jr*Uϕ*U0)/(A*U0**2) - (V[0]*(1.5*z**0.5 - 2.5*k*z**1.5))/(A)\n",
    "####################################       # dVϕ_dz computation\n",
    "#     Bz = (2.5*K*(1+2*m/z)*z**1.5)/(Jϕ) \n",
    "#     ((A*U0**2)/(Jϕ))*(Γr_tt + 2*dVϕ_dz*Γr_tϕ + dVϕ_dz*dVϕ_dz*Γr_ϕϕ + dVz_dz*dVz_dz*Γr_zz) \n",
    "\n",
    "    dVϕ_dz = -2*(Γϕ_tz - Γt_tz*V[1]) - V[1]*(Γϕ_zϕ - Γt_zϕ*V[1])- \\\n",
    "    V[1]*(Γϕ_ϕz - Γt_ϕz*V[1]) + (V[2]*Jr)/(V[0]*A*U0**2)\n",
    "###################################           # Bz computation \n",
    "    Bz = (2.5*k*(1+2*m/z)*z**1.5)/(Jϕ) + \\\n",
    "    ((A*U0**2)/(Jϕ))*(Γr_tt + 2*dVϕ_dz*Γr_tϕ + dVϕ_dz*dVϕ_dz*Γr_ϕϕ + dVz_dz*dVz_dz*Γr_zz)\n",
    "##################################            # Bϕ computation \n",
    "    D = ((-1.0)/(4*np.pi))*(2*z*(z**2 - 2*m)) + ((-1.0)/(4*np.pi))* \\\n",
    "    (((m*z)*(z**5 - 2*m*z**4 + 2*z**3 - 4*m*z**2 + z + 6*m*a**2 - 2*m)/ \\\n",
    "      (z**6 -4*m**2 * z**4 + 3*z**4 - 8*m**2 * z**2 + 3*z**2+4*a**2 * m**2 - 4*m**2 + 1 ))+\\\n",
    "     (m / z*(z+2*m)) +  ((m*z)/((1+z**2)*(np.sqrt(z)+2*m))))*(z**2 / (z**2 + 2*m)**2)\n",
    "\n",
    "    Bϕ = (1.0/(D*U0*Uϕ*Bz))*((((U0**2 * A *dVz_dz*dVϕ_dz*(Γt_ϕz + Γt_zϕ))/(2.0)) - \\\n",
    "                          ((U0**2 *dVz_dz*(1.5*z**0.5 - 2.5*k*z**1.5))/(2.0))) + \\\n",
    "                         ((((1 + 2*m/z)*2.5*k*z**1.5)/(2*dVz_dz)) + \\\n",
    "                          (((A*U0**2)/(2*dVz_dz))*\\\n",
    "                           (Γz_tt + 2*dVϕ_dz*Γz_tϕ-2*dVz_dz*dVz_dz*Γt_tz + \\\n",
    "                        dVϕ_dz*dVϕ_dz*Γz_ϕϕ - Γt_zϕ*dVz_dz*dVz_dz*dVϕ_dz - \\\n",
    "                           Γt_ϕz*dVz_dz*dVz_dz*dVϕ_dz + dVz_dz*dVz_dz*Γz_zz)))) \n",
    "    \n",
    "    dVdz = [dVz_dz, dVϕ_dz, Bz,Bϕ]\n",
    "    return dVdz"
   ]
  },
  {
   "cell_type": "code",
   "execution_count": 7,
   "id": "dc69c20d",
   "metadata": {},
   "outputs": [
    {
     "ename": "NameError",
     "evalue": "name 'Jr' is not defined",
     "output_type": "error",
     "traceback": [
      "\u001b[0;31m---------------------------------------------------------------------------\u001b[0m",
      "\u001b[0;31mNameError\u001b[0m                                 Traceback (most recent call last)",
      "\u001b[0;32m/tmp/ipykernel_10347/38417186.py\u001b[0m in \u001b[0;36m<module>\u001b[0;34m\u001b[0m\n\u001b[1;32m      1\u001b[0m \u001b[0;31m# def f(z,V,k,m,a,R):\u001b[0m\u001b[0;34m\u001b[0m\u001b[0;34m\u001b[0m\u001b[0m\n\u001b[0;32m----> 2\u001b[0;31m \u001b[0mf\u001b[0m\u001b[0;34m(\u001b[0m\u001b[0;36m1\u001b[0m\u001b[0;34m,\u001b[0m\u001b[0;34m[\u001b[0m\u001b[0;36m0.12\u001b[0m\u001b[0;34m,\u001b[0m\u001b[0;36m0.918\u001b[0m\u001b[0;34m,\u001b[0m\u001b[0;36m1e4\u001b[0m\u001b[0;34m]\u001b[0m\u001b[0;34m,\u001b[0m\u001b[0;36m0.364\u001b[0m\u001b[0;34m,\u001b[0m\u001b[0;36m1e3\u001b[0m\u001b[0;34m,\u001b[0m\u001b[0;36m0.2\u001b[0m\u001b[0;34m,\u001b[0m\u001b[0;36m1\u001b[0m\u001b[0;34m)\u001b[0m\u001b[0;34m\u001b[0m\u001b[0;34m\u001b[0m\u001b[0m\n\u001b[0m",
      "\u001b[0;32m/tmp/ipykernel_10347/2601959694.py\u001b[0m in \u001b[0;36mf\u001b[0;34m(z, V, k, m, a, R)\u001b[0m\n\u001b[1;32m     64\u001b[0m     \u001b[0mA\u001b[0m \u001b[0;34m=\u001b[0m \u001b[0;34m(\u001b[0m\u001b[0mz\u001b[0m\u001b[0;34m**\u001b[0m\u001b[0;36m1.5\u001b[0m \u001b[0;34m+\u001b[0m \u001b[0mk\u001b[0m\u001b[0;34m*\u001b[0m\u001b[0mz\u001b[0m\u001b[0;34m**\u001b[0m\u001b[0;36m2.5\u001b[0m\u001b[0;34m)\u001b[0m\u001b[0;34m;\u001b[0m\u001b[0;34m\u001b[0m\u001b[0;34m\u001b[0m\u001b[0m\n\u001b[1;32m     65\u001b[0m     \u001b[0mdVz_dz\u001b[0m \u001b[0;34m=\u001b[0m \u001b[0;34m(\u001b[0m\u001b[0mΓt_ϕz\u001b[0m \u001b[0;34m+\u001b[0m \u001b[0mΓt_zϕ\u001b[0m\u001b[0;34m)\u001b[0m\u001b[0;34m*\u001b[0m\u001b[0;34m(\u001b[0m\u001b[0mV\u001b[0m\u001b[0;34m[\u001b[0m\u001b[0;36m0\u001b[0m\u001b[0;34m]\u001b[0m\u001b[0;34m*\u001b[0m\u001b[0mV\u001b[0m\u001b[0;34m[\u001b[0m\u001b[0;36m1\u001b[0m\u001b[0;34m]\u001b[0m\u001b[0;34m)\u001b[0m \u001b[0;34m-\u001b[0m\u001b[0;31m \u001b[0m\u001b[0;31m\\\u001b[0m\u001b[0;34m\u001b[0m\u001b[0;34m\u001b[0m\u001b[0m\n\u001b[0;32m---> 66\u001b[0;31m     \u001b[0;34m(\u001b[0m\u001b[0;36m2\u001b[0m\u001b[0;34m*\u001b[0m\u001b[0mV\u001b[0m\u001b[0;34m[\u001b[0m\u001b[0;36m2\u001b[0m\u001b[0;34m]\u001b[0m\u001b[0;34m*\u001b[0m\u001b[0mJr\u001b[0m\u001b[0;34m*\u001b[0m\u001b[0mUϕ\u001b[0m\u001b[0;34m*\u001b[0m\u001b[0mU0\u001b[0m\u001b[0;34m)\u001b[0m\u001b[0;34m/\u001b[0m\u001b[0;34m(\u001b[0m\u001b[0mA\u001b[0m\u001b[0;34m*\u001b[0m\u001b[0mU0\u001b[0m\u001b[0;34m**\u001b[0m\u001b[0;36m2\u001b[0m\u001b[0;34m)\u001b[0m \u001b[0;34m-\u001b[0m \u001b[0;34m(\u001b[0m\u001b[0mV\u001b[0m\u001b[0;34m[\u001b[0m\u001b[0;36m0\u001b[0m\u001b[0;34m]\u001b[0m\u001b[0;34m*\u001b[0m\u001b[0;34m(\u001b[0m\u001b[0;36m1.5\u001b[0m\u001b[0;34m*\u001b[0m\u001b[0mz\u001b[0m\u001b[0;34m**\u001b[0m\u001b[0;36m0.5\u001b[0m \u001b[0;34m-\u001b[0m \u001b[0;36m2.5\u001b[0m\u001b[0;34m*\u001b[0m\u001b[0mk\u001b[0m\u001b[0;34m*\u001b[0m\u001b[0mz\u001b[0m\u001b[0;34m**\u001b[0m\u001b[0;36m1.5\u001b[0m\u001b[0;34m)\u001b[0m\u001b[0;34m)\u001b[0m\u001b[0;34m/\u001b[0m\u001b[0;34m(\u001b[0m\u001b[0mA\u001b[0m\u001b[0;34m)\u001b[0m\u001b[0;34m\u001b[0m\u001b[0;34m\u001b[0m\u001b[0m\n\u001b[0m\u001b[1;32m     67\u001b[0m \u001b[0;31m####################################       # dVϕ_dz computation\u001b[0m\u001b[0;34m\u001b[0m\u001b[0;34m\u001b[0m\u001b[0m\n\u001b[1;32m     68\u001b[0m \u001b[0;31m#     Bz = (2.5*K*(1+2*m/z)*z**1.5)/(Jϕ)\u001b[0m\u001b[0;34m\u001b[0m\u001b[0;34m\u001b[0m\u001b[0m\n",
      "\u001b[0;31mNameError\u001b[0m: name 'Jr' is not defined"
     ]
    }
   ],
   "source": [
    "# def f(z,V,k,m,a,R):\n",
    "f(1,[0.12,0.918,1e4],0.364,1e3,0.2,1)"
   ]
  },
  {
   "cell_type": "code",
   "execution_count": null,
   "id": "a5f4523b",
   "metadata": {},
   "outputs": [],
   "source": [
    "# f(r,V,k,m,a,c,α)\n",
    "V = solve_ivp(fun=f, t_span=[3,10], y0=[0.12,0.918,1e2,1e4],\n",
    "              args=(0.364,1e3,0.2,1), dense_output=False)  \n"
   ]
  },
  {
   "cell_type": "code",
   "execution_count": null,
   "id": "d484c908",
   "metadata": {},
   "outputs": [],
   "source": []
  }
 ],
 "metadata": {
  "kernelspec": {
   "display_name": "Python 3 (ipykernel)",
   "language": "python",
   "name": "python3"
  },
  "language_info": {
   "codemirror_mode": {
    "name": "ipython",
    "version": 3
   },
   "file_extension": ".py",
   "mimetype": "text/x-python",
   "name": "python",
   "nbconvert_exporter": "python",
   "pygments_lexer": "ipython3",
   "version": "3.9.13"
  }
 },
 "nbformat": 4,
 "nbformat_minor": 5
}
