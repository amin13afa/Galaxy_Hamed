{
 "cells": [
  {
   "cell_type": "code",
   "execution_count": 1,
   "id": "81640789",
   "metadata": {},
   "outputs": [],
   "source": [
    "import numpy as np \n",
    "import matplotlib.pyplot as plt \n",
    "from scipy.integrate import solve_ivp "
   ]
  },
  {
   "cell_type": "code",
   "execution_count": 23,
   "id": "bb9bcb5d",
   "metadata": {},
   "outputs": [],
   "source": [
    "def f(z,V,k,m,a,α):                                   \n",
    "    Vt = 0.0;\n",
    "    R = 1.0;\n",
    "    c = 1.0;\n",
    "    ################################################\n",
    "    # Γt\n",
    "    G = (1-4*m**2+3*z**2+4*a**2 * m**2 -8*m**2 * z**2 + 3*z**4 - 4*m**2 * z**4 + z**6)\n",
    "    ###\n",
    "    Γt_tr = (m*(z+2*z**3+z**5+2*m-a*m*a**2+4*m*z**2+4*m*a**2 * z**2 + 2*m*z**4))/ (z**2 * G)\n",
    "    Γt_tz = (m*z*(z+2*z**3+z**5+2*m-6*m*a**2+4*m*z**2+2*m*z**4))/(z**2 * G)\n",
    "    Γt_rt = Γt_tr\n",
    "    Γt_rϕ = (-m*a*(z+4*m))/(G)\n",
    "    Γt_ϕr = Γt_rϕ\n",
    "    Γt_ϕz = (-m*a*z*(3*z+4*m))/(G)\n",
    "    Γt_zt = Γt_tz\n",
    "    Γt_zϕ = Γt_ϕz\n",
    "    ################################################\n",
    "    # Γr\n",
    "    H = (z+2*m)*z**2\n",
    "    ####\n",
    "    Γr_tt = m/H\n",
    "    Γr_tϕ = (2*m*a)/H\n",
    "    Γr_rr = -m/H\n",
    "    Γr_rz = -m*z/H\n",
    "    Γr_ϕt = 2*m*a/H\n",
    "    Γr_ϕϕ = -1*(z**3+m+2*m*z**2)/H\n",
    "    Γr_zr = (-m*z)/H\n",
    "    Γr_zz = m/H\n",
    "#######################\n",
    "    # Γϕ\n",
    "    Γϕ_tz = ((a*m*z)*(-4*m+3*z))/(G)\n",
    "    Γϕ_tr = (a*m*(z-2*z**3+4*m*z**2))/G\n",
    "    Γϕ_zϕ = (-1*(m*z)*(z+2*z**3+z**5-2*m+6*m*a**2-4*m*z**2-2*m*z**4))/((1+z**2)*G)\n",
    "    Γϕ_ϕz = -Γϕ_zϕ    \n",
    "    Γϕ_ϕr = 0; #####################################\n",
    "#######################\n",
    "    # Γz\n",
    "    L = (1+z**2)*(z+2*m)\n",
    "    Γz_tt = (m*z)/(L)\n",
    "    Γz_tϕ = (-1*(3*m*a*z)/(L*(1+z**2)))\n",
    "    Γz_rr = (m*z)/(L)\n",
    "    Γz_rz = (-m*R)/(L)\n",
    "    Γz_ϕt = (-3*m*a*z*R**2)/(L*(1+z**2))\n",
    "    Γz_ϕϕ = (m*z)/(L*(1+z**2))\n",
    "    Γz_zr = -m/L\n",
    "    Γz_zz = (-m*z)/((1+z**2)*(np.sqrt(z)+2*m))\n",
    "#######################################\n",
    "    Vz,Vϕ,Bϕ = V\n",
    "#     Vz = 0.85\n",
    "#     Vϕ = 0.52\n",
    "#     Bϕ = 1e4\n",
    "    γ = 1./(np.sqrt(1-(Vz**2 + Vϕ**2)))\n",
    "#     print(γ)\n",
    "#     if 80 <= γ <= 100:\n",
    "#         print(γ)\n",
    "#     else:\n",
    "#         print(\"Boro Baba\")\n",
    "#     if np.isnan(γ):\n",
    "#         γ = 1000\n",
    "#     γ = 100;\n",
    "    Uϕ = γ*Vϕ;\n",
    "    U0 = γ;\n",
    "    Ur = 0;\n",
    "    Uz = γ*Vz;  \n",
    "    gzz = -z/(z+2*m)\n",
    "    Bz = 1e4\n",
    "    ###############################\n",
    "    ## dBϕdz\n",
    "    L1 = ((z**2/(4*np.pi*(z+2*m)**2))*(((2*(Bϕ*Uz-Bz*Uϕ))) \\\n",
    "                                           + ((z**3 * Bz)/(2*m*a*U0))))+(1./(Vz*U0**2 * (z**-1.5 + k*z**-2.5)))\n",
    "    \n",
    "    \n",
    "    \n",
    "    L3 = (-2*Vz*Vϕ*Γt_ϕz) + (-1/(Vz*U0**2*(z**-1.5+k*z**-2.5))) \\\n",
    "    * (Γz_tt+2*Vϕ*Γz_tϕ-2*Γt_tz*Vz**2+Γz_ϕϕ*Vϕ**2 + Vz**2 * (Γz_zz-2*Vϕ*Γt_ϕz) \\\n",
    "    + gzz*(2.5*k*z**-3.5) + (Bϕ/4*np.pi)* (((4*m*z)/((z+2*m)**3)) \\\n",
    "       + (((z**2)/((z+2*m)**2))*(Γϕ_ϕz+Γr_zr+Γz_zz +Γt_tz)))\\\n",
    "    *(((z*Bϕ)/(z+2*m)) - ((Vz*Bz*z**3)/(2*m*a))))\n",
    "    \n",
    "    \n",
    "#     L4 = ((Bϕ*(2*z**2 + 4*m*z-4*z))/(4*np.pi*(z+2*m)**3))\\\n",
    "#     *2*((((Bϕ*Uz - Bz*Uϕ))/(U0)) + ((Bz*z**3)/(2*m*a*U0**2))) \n",
    "    \n",
    "    L4 = (1./(4*np.pi*U0))*(2*(Bϕ*Uz - Bz*Uϕ) + (z**3 * Bz)/(2*m*a*U0))\n",
    "    \n",
    "    \n",
    "#     L5 = (2*Ur/U0)*(((Bz**2 * Γϕ_tr * z**4)/(4*np.pi * 2*m*a*(z+2*m))) \\\n",
    "#                      + ((z**2 * (Bz**2 + Bϕ**2))/(4*np.pi * (z+2*m)**2))\\\n",
    "#                      *(Γt_tr + Γr_rr + Γϕ_ϕr + Γz_rz))\n",
    "    \n",
    "    L5 = ((z**2 * Bϕ)/((z+2*m)**2))*(((4*m)/(z * (z+2*m))) \\\n",
    "                                     + (Γϕ_ϕz+Γr_zr+Γz_zz+Γt_tz))\n",
    "    \n",
    "    \n",
    "    \n",
    "    L2 = Vz*(-1.5*z**(-2.5) + 2.5*k*z**(-3.5)) + (z**-1.5 + k*z**-2.5)*(L3) - (L4*L5)\n",
    "    \n",
    "    dBϕdz = (L1**-1)*(L2)\n",
    "######################################################################   \n",
    "# dVzdz\n",
    "    M2 = ((z**2)/(4*np.pi * (z+2*m)**2 )) \\\n",
    "    * (((Bϕ*(4*m))/(z*(z+2*m))) + dBϕdz \\\n",
    "       + Bϕ*(Γϕ_ϕz + Γr_zr + Γz_zz + Γt_tz))\n",
    "    \n",
    "    M3 = ((Bϕ*z)/(z+2*m)) - ((Vz*z**3 * Bz)/(2*m*a))\n",
    "    M4 = Γz_tt+Vz**2 * (Γz_zz - 2*Vϕ*Γt_ϕz-2*Γt_tz)\\\n",
    "    +Vϕ*(2*Γz_tϕ+Vϕ*Γz_ϕϕ)\n",
    "    \n",
    "    M1 = ((z**-1.5+k*z**-2.5)*U0**2)*(M4) + gzz*(2.5*k*z**-3.5) + M2*M3\n",
    "    \n",
    "#     dVzdz = ((-1./(Vz*U0**2*(z**-1.5+k*z**-2.5))))*(M1)\n",
    "    dVzdz = -(((Vz*U0**2*(z**-1.5+k*z**-2.5))))*(M1)\n",
    "   ##################################################################3 \n",
    "    # dVϕdz\n",
    "    N2 = (2*(z**-1.5 + k*z**-2.5)*U0**2 * Vz)\\\n",
    "    *(Γϕ_tz - Vϕ * Γt_tz - Vϕ**2 * Γt_zϕ )\n",
    "    \n",
    "    N3 = ((z**2)/((z+2*m)**2 ))*(((Bϕ*(4*m))/(z*(z+2*m))) + dBϕdz \\\n",
    "       + Bϕ*(Γϕ_ϕz + Γr_zr + Γz_zz + Γt_tz))\n",
    "    \n",
    "    N4 = (Bz/4*np.pi)*(((Vϕ*z**3)/(2*m*a)) + (z/(z+2*m)))\n",
    "    N5 = z/(z+2*m) - (z**3/(2*m*a)) + Uϕ*(Uϕ+Uz)\n",
    "    N6 = (α*k*z**-2.5)*(2*Γϕ_ϕr + Γr_zr)\n",
    "    print(N6)\n",
    "    N1 = N2 - N3*N4 + N5*N6\n",
    "    dVϕdz = (((z**-1.5 + k*z**-2.5)*Vz*U0**2)**-1)*(N1)\n",
    "    \n",
    "    dVdz = [dVzdz, dVϕdz,Bϕ]\n",
    "    return dVdz"
   ]
  },
  {
   "cell_type": "code",
   "execution_count": 72,
   "id": "a015a541",
   "metadata": {},
   "outputs": [
    {
     "name": "stdout",
     "output_type": "stream",
     "text": [
      "-80160781.44168521\n",
      "-80160781.44168493\n",
      "-80160781.44168521\n",
      "-80160781.44168521\n",
      "-80160781.44168521\n",
      "-80160781.44168055\n",
      "-80160781.44166581\n",
      "-80160781.44165514\n",
      "-80160781.44168055\n",
      "-80160781.44166581\n",
      "-80160781.44165514\n",
      "-80160781.44165514\n",
      "-80160781.4416353\n",
      "-80160781.44157249\n",
      "-80160781.44152704\n",
      "-80160781.4416353\n",
      "-80160781.44157249\n",
      "-80160781.44152704\n",
      "-80160781.44152704\n",
      "-80160781.44149034\n",
      "-80160781.44137456\n",
      "-80160781.44129059\n",
      "-80160781.44149034\n",
      "-80160781.44137456\n",
      "-80160781.44129059\n",
      "-80160781.44129059\n",
      "-80160781.44124396\n",
      "-80160781.44109668\n",
      "-80160781.44098991\n",
      "-80160781.44124396\n",
      "-80160781.44109668\n",
      "-80160781.44098991\n",
      "-80160781.44124396\n",
      "-80160781.44109668\n",
      "-80160781.44098991\n",
      "-80160781.44124396\n",
      "-80160781.44109668\n",
      "-80160781.44098991\n",
      "-80160781.441273\n",
      "-80160781.44121741\n",
      "-80160781.44117711\n",
      "-80160781.441273\n",
      "-80160781.44121741\n",
      "-80160781.44117711\n",
      "-80160781.44117711\n",
      "-80160781.44115953\n",
      "-80160781.44110394\n",
      "-80160781.44106361\n",
      "-80160781.44115953\n",
      "-80160781.44110394\n",
      "-80160781.44106361\n",
      "-80160781.44106361\n",
      "-80160781.44104604\n",
      "-80160781.44099045\n",
      "-80160781.44095016\n",
      "-80160781.44104604\n",
      "-80160781.44099045\n",
      "-80160781.44095016\n",
      "-80160781.44095016\n",
      "-80160781.44093257\n",
      "-80160781.44087698\n",
      "-80160781.44083667\n",
      "-80160781.44093257\n",
      "-80160781.44087698\n",
      "-80160781.44083667\n",
      "-80160781.44095016\n",
      "-80160781.44095016\n",
      "-80160781.44095016\n",
      "-80160781.44093257\n",
      "-80160781.44087698\n",
      "-80160781.44083667\n",
      "-80160781.44093257\n",
      "-80160781.44087698\n",
      "-80160781.44083667\n",
      "-80160781.44093257\n",
      "-80160781.44087698\n",
      "-80160781.44083667\n",
      "-80160781.44093257\n",
      "-80160781.44087698\n",
      "-80160781.44083667\n",
      "-80160781.44083667\n",
      "-80160781.44083667\n",
      "-80160781.44083667\n",
      "-80160781.44083667\n",
      "-80160781.4407843\n",
      "-80160781.44061875\n",
      "-80160781.44049875\n",
      "-80160781.4407843\n",
      "-80160781.44061875\n",
      "-80160781.44049875\n",
      "-80160781.44049875\n",
      "-80160781.4404132\n",
      "-80160781.4401429\n",
      "-80160781.43994696\n",
      "-80160781.4404132\n",
      "-80160781.4401429\n",
      "-80160781.43994696\n",
      "-80160781.4404132\n",
      "-80160781.4401429\n",
      "-80160781.43994696\n",
      "-80160781.4404132\n",
      "-80160781.4401429\n",
      "-80160781.43994696\n",
      "-80160781.43994696\n",
      "-80160781.43994696\n",
      "-80160781.43994696\n",
      "-80160781.43994696\n",
      "-80160781.43979041\n",
      "-80160781.43929566\n",
      "-80160781.43893713\n",
      "-80160781.43986869\n",
      "-80160781.4396213\n",
      "-80160781.43944205\n",
      "-80160781.43986869\n",
      "-80160781.4396213\n",
      "-80160781.43944205\n",
      "-80160781.43944205\n",
      "-80160781.43936378\n",
      "-80160781.43911642\n",
      "-80160781.43893719\n",
      "-80160781.43944205\n",
      "-80160781.43944205\n",
      "-80160781.43944205\n",
      "-80160781.43936378\n",
      "-80160781.43911642\n",
      "-80160781.43893719\n",
      "-80160781.4394029\n",
      "-80160781.43927924\n",
      "-80160781.43918958\n",
      "-80160781.4394029\n",
      "-80160781.43927924\n",
      "-80160781.43918958\n",
      "-80160781.4394029\n",
      "-80160781.43927924\n",
      "-80160781.43918958\n",
      "-80160781.43918958\n",
      "-80160781.43918958\n",
      "-80160781.43918958\n",
      "-80160781.43918958\n",
      "-80160781.43915714\n",
      "-80160781.43905447\n",
      "-80160781.43898009\n",
      "-80160781.43915714\n",
      "-80160781.43905447\n",
      "-80160781.43898009\n",
      "-80160781.43898009\n",
      "-80160781.43894766\n",
      "-80160781.438845\n",
      "-80160781.43877062\n",
      "-80160781.43894766\n",
      "-80160781.438845\n",
      "-80160781.43877062\n",
      "-80160781.43894766\n",
      "-80160781.438845\n",
      "-80160781.43877062\n",
      "-80160781.43877062\n",
      "-80160781.43877062\n",
      "-80160781.43877062\n",
      "-80160781.43877062\n",
      "-80160781.43869026\n",
      "-80160781.43843625\n",
      "-80160781.4382522\n",
      "-80160781.43873043\n",
      "-80160781.43860345\n",
      "-80160781.4385114\n",
      "-80160781.43873043\n",
      "-80160781.43860345\n",
      "-80160781.4385114\n",
      "-80160781.4385114\n",
      "-80160781.43842165\n",
      "-80160781.43813805\n",
      "-80160781.43793249\n",
      "-80160781.4385114\n",
      "-80160781.4385114\n",
      "-80160781.4385114\n",
      "-80160781.43842165\n",
      "-80160781.43813805\n",
      "-80160781.43793249\n",
      "-80160781.43846653\n",
      "-80160781.4383247\n",
      "-80160781.43822196\n",
      "-80160781.43846653\n",
      "-80160781.4383247\n",
      "-80160781.43822196\n",
      "-80160781.43822196\n",
      "-80160781.43812357\n",
      "-80160781.43781267\n",
      "-80160781.43758735\n",
      "-80160781.43812357\n",
      "-80160781.43781267\n",
      "-80160781.43758735\n",
      "-80160781.43758735\n",
      "-80160781.43727206\n",
      "-80160781.43627593\n",
      "-80160781.43555395\n",
      "-80160781.43727206\n",
      "-80160781.43627593\n",
      "-80160781.43555395\n",
      "-80160781.43758735\n",
      "-80160781.43758735\n",
      "-80160781.43758735\n",
      "-80160781.43727206\n",
      "-80160781.43627593\n",
      "-80160781.43555395\n",
      "-80160781.43727206\n",
      "-80160781.43627593\n",
      "-80160781.43555395\n",
      "-80160781.43742971\n",
      "-80160781.43693164\n",
      "-80160781.43657067\n",
      "-80160781.43742971\n",
      "-80160781.43693164\n",
      "-80160781.43657067\n",
      "-80160781.43657067\n",
      "-80160781.43539292\n",
      "-80160781.43167184\n",
      "-80160781.42897497\n",
      "-80160781.43539292\n",
      "-80160781.43167184\n",
      "-80160781.42897497\n",
      "-80160781.43539292\n",
      "-80160781.43167184\n",
      "-80160781.42897497\n",
      "-80160781.42897497\n",
      "-80160781.42897497\n",
      "-80160781.42897497\n",
      "-80160781.42897497\n",
      "-80160781.42345384\n",
      "-80160781.40600936\n",
      "-80160781.39336658\n",
      "-80160781.42345384\n",
      "-80160781.40600936\n",
      "-80160781.39336658\n",
      "-80160781.42621438\n",
      "-80160781.41749215\n",
      "-80160781.4111708\n",
      "-80160781.42621438\n",
      "-80160781.41749215\n",
      "-80160781.4111708\n",
      "-80160781.4111708\n",
      "-80160781.40841022\n",
      "-80160781.39968799\n",
      "-80160781.3933666\n",
      "-80160781.40841022\n",
      "-80160781.39968799\n",
      "-80160781.3933666\n",
      "-80160781.40841022\n",
      "-80160781.39968799\n",
      "-80160781.3933666\n",
      "-80160781.4111708\n",
      "-80160781.4111708\n",
      "-80160781.4111708\n",
      "-80160781.40841022\n",
      "-80160781.39968799\n",
      "-80160781.3933666\n",
      "-80160781.40841022\n",
      "-80160781.39968799\n",
      "-80160781.3933666\n",
      "-80160781.40841022\n",
      "-80160781.39968799\n",
      "-80160781.3933666\n",
      "-80160781.40979053\n",
      "-80160781.40542941\n",
      "-80160781.4022687\n",
      "-80160781.40979053\n",
      "-80160781.40542941\n",
      "-80160781.4022687\n",
      "-80160781.4022687\n",
      "-80160781.40088844\n",
      "-80160781.39652732\n",
      "-80160781.3933666\n",
      "-80160781.40088844\n",
      "-80160781.39652732\n",
      "-80160781.3933666\n",
      "-80160781.3933666\n",
      "-80160781.39198638\n",
      "-80160781.38762525\n",
      "-80160781.38446452\n",
      "-80160781.39198638\n",
      "-80160781.38762525\n",
      "-80160781.38446452\n",
      "-80160781.39198638\n",
      "-80160781.38762525\n",
      "-80160781.38446452\n",
      "-80160781.3933666\n",
      "-80160781.3933666\n",
      "-80160781.3933666\n",
      "-80160781.39198638\n",
      "-80160781.38762525\n",
      "-80160781.38446452\n",
      "-80160781.39198638\n",
      "-80160781.38762525\n",
      "-80160781.38446452\n",
      "-80160781.39198638\n",
      "-80160781.38762525\n",
      "-80160781.38446452\n",
      "-80160781.39267644\n",
      "-80160781.3904959\n",
      "-80160781.38891554\n",
      "-80160781.39267644\n",
      "-80160781.3904959\n",
      "-80160781.38891554\n",
      "-80160781.38891554\n",
      "-80160781.387205\n",
      "-80160781.38180055\n",
      "-80160781.37788373\n",
      "-80160781.387205\n",
      "-80160781.38180055\n",
      "-80160781.37788373\n",
      "-80160781.38891554\n",
      "-80160781.38891554\n",
      "-80160781.38891554\n",
      "-80160781.387205\n",
      "-80160781.38180055\n",
      "-80160781.37788373\n",
      "-80160781.387205\n",
      "-80160781.38180055\n",
      "-80160781.37788373\n",
      "-80160781.38806029\n",
      "-80160781.38535805\n",
      "-80160781.38339962\n",
      "-80160781.38806029\n",
      "-80160781.38535805\n",
      "-80160781.38339962\n",
      "-80160781.38339962\n",
      "-80160781.38254438\n",
      "-80160781.37984215\n",
      "-80160781.37788373\n",
      "-80160781.38254438\n",
      "-80160781.37984215\n",
      "-80160781.37788373\n",
      "-80160781.38339962\n",
      "-80160781.38339962\n",
      "-80160781.38339962\n",
      "-80160781.38254438\n",
      "-80160781.37984215\n",
      "-80160781.37788373\n",
      "-80160781.38254438\n",
      "-80160781.37984215\n",
      "-80160781.37788373\n",
      "-80160781.38297205\n",
      "-80160781.38162087\n",
      "-80160781.38064165\n",
      "-80160781.38297205\n",
      "-80160781.38162087\n",
      "-80160781.38064165\n",
      "-80160781.38064165\n",
      "-80160781.38021407\n",
      "-80160781.37886289\n",
      "-80160781.37788367\n",
      "-80160781.38021407\n",
      "-80160781.37886289\n",
      "-80160781.37788367\n",
      "-80160781.38064165\n",
      "-80160781.38064165\n",
      "-80160781.38064165\n",
      "-80160781.38021407\n",
      "-80160781.37886289\n",
      "-80160781.37788367\n",
      "-80160781.38021407\n",
      "-80160781.37886289\n",
      "-80160781.37788367\n",
      "-80160781.38042785\n",
      "-80160781.37975226\n",
      "-80160781.37926264\n",
      "-80160781.38042785\n",
      "-80160781.37975226\n",
      "-80160781.37926264\n",
      "-80160781.37926264\n",
      "-80160781.37904884\n",
      "-80160781.37837322\n",
      "-80160781.37788363\n",
      "-80160781.37904884\n",
      "-80160781.37837322\n",
      "-80160781.37788363\n",
      "-80160781.37926264\n",
      "-80160781.37926264\n",
      "-80160781.37926264\n",
      "-80160781.37904884\n",
      "-80160781.37837322\n",
      "-80160781.37788363\n",
      "-80160781.37904884\n",
      "-80160781.37837322\n",
      "-80160781.37788363\n",
      "-80160781.37915573\n",
      "-80160781.37881796\n",
      "-80160781.37857313\n",
      "-80160781.37915573\n",
      "-80160781.37881796\n",
      "-80160781.37857313\n",
      "-80160781.37857313\n",
      "-80160781.37846619\n",
      "-80160781.37812845\n",
      "-80160781.37788363\n",
      "-80160781.37846619\n",
      "-80160781.37812845\n",
      "-80160781.37788363\n",
      "-80160781.37857313\n",
      "-80160781.37857313\n",
      "-80160781.37857313\n",
      "-80160781.37846619\n",
      "-80160781.37812845\n",
      "-80160781.37788363\n",
      "-80160781.37846619\n",
      "-80160781.37812845\n",
      "-80160781.37788363\n",
      "-80160781.3785197\n",
      "-80160781.3783508\n",
      "-80160781.37822837\n",
      "-80160781.3785197\n",
      "-80160781.3783508\n",
      "-80160781.37822837\n",
      "-80160781.37822837\n",
      "-80160781.37817492\n",
      "-80160781.37800604\n",
      "-80160781.37788363\n",
      "-80160781.37817492\n",
      "-80160781.37800604\n",
      "-80160781.37788363\n",
      "-80160781.37822837\n",
      "-80160781.37822837\n",
      "-80160781.37822837\n",
      "-80160781.37817492\n",
      "-80160781.37800604\n",
      "-80160781.37788363\n",
      "-80160781.37817492\n",
      "-80160781.37800604\n",
      "-80160781.37788363\n",
      "-80160781.37820166\n",
      "-80160781.37811719\n",
      "-80160781.37805599\n",
      "-80160781.37820166\n",
      "-80160781.37811719\n",
      "-80160781.37805599\n",
      "-80160781.37821501\n",
      "-80160781.37817279\n",
      "-80160781.37814215\n",
      "-80160781.37821501\n",
      "-80160781.37817279\n",
      "-80160781.37814215\n",
      "-80160781.37814215\n",
      "-80160781.37812878\n",
      "-80160781.37808655\n",
      "-80160781.3780559\n",
      "-80160781.37812878\n",
      "-80160781.37808655\n",
      "-80160781.3780559\n",
      "-80160781.37812878\n",
      "-80160781.37808655\n",
      "-80160781.3780559\n",
      "-80160781.37812878\n",
      "-80160781.37808655\n",
      "-80160781.3780559\n",
      "-80160781.3780559\n",
      "-80160781.3780559\n",
      "-80160781.3780559\n",
      "-80160781.3780559\n",
      "-80160781.37805432\n",
      "-80160781.37804928\n",
      "-80160781.37804566\n",
      "-80160781.37805432\n",
      "-80160781.37804928\n",
      "-80160781.37804566\n",
      "-80160781.37804566\n",
      "-80160781.37804407\n",
      "-80160781.37803899\n",
      "-80160781.37803538\n",
      "-80160781.37804566\n",
      "-80160781.37804566\n",
      "-80160781.37804566\n",
      "-80160781.37804407\n",
      "-80160781.37803899\n",
      "-80160781.37803538\n",
      "-80160781.37804486\n",
      "-80160781.37804234\n",
      "-80160781.37804048\n",
      "-80160781.37804486\n",
      "-80160781.37804234\n",
      "-80160781.37804048\n",
      "-80160781.37804525\n",
      "-80160781.37804396\n",
      "-80160781.37804306\n",
      "-80160781.37804525\n",
      "-80160781.37804396\n",
      "-80160781.37804306\n",
      "-80160781.37804306\n",
      "-80160781.37804207\n",
      "-80160781.37803899\n",
      "-80160781.37803678\n",
      "-80160781.37804306\n",
      "-80160781.37804306\n",
      "-80160781.37804306\n",
      "-80160781.37804207\n",
      "-80160781.37803899\n",
      "-80160781.37803678\n",
      "-80160781.37804258\n",
      "-80160781.37804103\n",
      "-80160781.3780399\n",
      "-80160781.37804258\n",
      "-80160781.37804103\n",
      "-80160781.3780399\n",
      "-80160781.37804282\n",
      "-80160781.37804201\n",
      "-80160781.37804148\n",
      "-80160781.37804282\n",
      "-80160781.37804201\n",
      "-80160781.37804148\n",
      "-80160781.37804148\n",
      "-80160781.37804122\n",
      "-80160781.37804043\n",
      "-80160781.3780399\n",
      "-80160781.37804122\n",
      "-80160781.37804043\n",
      "-80160781.3780399\n",
      "-80160781.37804148\n",
      "-80160781.37804148\n",
      "-80160781.37804148\n",
      "-80160781.37804122\n",
      "-80160781.37804043\n",
      "-80160781.3780399\n",
      "-80160781.37804122\n",
      "-80160781.37804043\n",
      "-80160781.3780399\n",
      "-80160781.37804137\n",
      "-80160781.37804098\n",
      "-80160781.37804069\n",
      "-80160781.37804137\n",
      "-80160781.37804098\n",
      "-80160781.37804069\n",
      "-80160781.37804069\n",
      "-80160781.37804058\n",
      "-80160781.3780402\n",
      "-80160781.3780399\n",
      "-80160781.37804069\n",
      "-80160781.37804069\n",
      "-80160781.37804069\n",
      "-80160781.37804058\n",
      "-80160781.3780402\n",
      "-80160781.3780399\n"
     ]
    },
    {
     "name": "stderr",
     "output_type": "stream",
     "text": [
      "/tmp/ipykernel_5992/2003923733.py:52: RuntimeWarning: invalid value encountered in sqrt\n",
      "  γ = 1./(np.sqrt(1-(Vz**2 + Vϕ**2)))\n"
     ]
    }
   ],
   "source": [
    "# f(r,V,k,m,a,α)\n",
    "V = solve_ivp(fun=f, t_span=[6.1,60.2], y0=[0.8511,0.525,5e4],\n",
    "             method='Radau', args=(0.364,1,1,1e12), dense_output=False)  \n",
    "# Radau\n",
    "# RK4   "
   ]
  },
  {
   "cell_type": "code",
   "execution_count": 18,
   "id": "38b74cea",
   "metadata": {},
   "outputs": [
    {
     "data": {
      "text/plain": [
       "(3, 38)"
      ]
     },
     "execution_count": 18,
     "metadata": {},
     "output_type": "execute_result"
    }
   ],
   "source": [
    "V.y.shape"
   ]
  },
  {
   "cell_type": "code",
   "execution_count": 69,
   "id": "90b7e882",
   "metadata": {},
   "outputs": [],
   "source": [
    "P1 = V"
   ]
  },
  {
   "cell_type": "code",
   "execution_count": 71,
   "id": "4bebe897",
   "metadata": {},
   "outputs": [],
   "source": [
    "P2 = V"
   ]
  },
  {
   "cell_type": "code",
   "execution_count": 73,
   "id": "daa615b5",
   "metadata": {},
   "outputs": [],
   "source": [
    "P3 = V"
   ]
  },
  {
   "cell_type": "code",
   "execution_count": 32,
   "id": "8b493259",
   "metadata": {},
   "outputs": [
    {
     "data": {
      "text/plain": [
       "(3, 37)"
      ]
     },
     "execution_count": 32,
     "metadata": {},
     "output_type": "execute_result"
    }
   ],
   "source": [
    "P3.y.shape"
   ]
  },
  {
   "cell_type": "code",
   "execution_count": 9,
   "id": "18fbd9d1",
   "metadata": {},
   "outputs": [
    {
     "data": {
      "text/plain": [
       "37"
      ]
     },
     "execution_count": 9,
     "metadata": {},
     "output_type": "execute_result"
    }
   ],
   "source": [
    "dim = min(P1.y.shape[1], P2.y.shape[1], P3.y.shape[1])\n",
    "dim"
   ]
  },
  {
   "cell_type": "code",
   "execution_count": 14,
   "id": "2e35519e",
   "metadata": {},
   "outputs": [
    {
     "data": {
      "text/plain": [
       "2000.0003623984373"
      ]
     },
     "execution_count": 14,
     "metadata": {},
     "output_type": "execute_result"
    }
   ],
   "source": [
    "V.y[2][-1]"
   ]
  },
  {
   "cell_type": "code",
   "execution_count": 22,
   "id": "6654b660",
   "metadata": {},
   "outputs": [
    {
     "data": {
      "image/png": "[encoded data removed]",
      "text/plain": [
       "<Figure size 640x480 with 3 Axes>"
      ]
     },
     "metadata": {},
     "output_type": "display_data"
    }
   ],
   "source": [
    "dim = V.y.shape[1]\n",
    "# dim = 30\n",
    "t = np.linspace(4,40,dim)\n",
    "vz = V.y[0,0:dim]\n",
    "vphi = V.y[1,0:dim]\n",
    "bphi = V.y[2,0:dim]\n",
    "plt.subplot(221)\n",
    "plt.plot(t,vz)\n",
    "plt.subplot(222)\n",
    "plt.plot(t,vphi)\n",
    "plt.subplot(223)\n",
    "plt.plot(t,bphi)\n",
    "# plt.plot(t,vz)\n",
    "plt.show()"
   ]
  },
  {
   "cell_type": "code",
   "execution_count": null,
   "id": "0df2c82e",
   "metadata": {},
   "outputs": [],
   "source": []
  },
  {
   "cell_type": "code",
   "execution_count": null,
   "id": "2a066b21",
   "metadata": {},
   "outputs": [],
   "source": []
  },
  {
   "cell_type": "code",
   "execution_count": 69,
   "id": "b0e454cf",
   "metadata": {},
   "outputs": [
    {
     "data": {
      "text/plain": [
       "(3, 49)"
      ]
     },
     "execution_count": 69,
     "metadata": {},
     "output_type": "execute_result"
    }
   ],
   "source": [
    "P1 = V\n",
    "P1.y.shape"
   ]
  },
  {
   "cell_type": "code",
   "execution_count": 10,
   "id": "d204ea1f",
   "metadata": {},
   "outputs": [
    {
     "data": {
      "image/png": "[encoded data removed]",
      "text/plain": [
       "<Figure size 640x480 with 1 Axes>"
      ]
     },
     "metadata": {},
     "output_type": "display_data"
    }
   ],
   "source": [
    "\n",
    "ga = 1./np.sqrt(1-(P1.y[0,:]**2 + P1.y[1,:]**2))\n",
    "t = np.linspace(4,60,P1.y.shape[1])\n",
    "plt.plot(t,ga)\n",
    "plt.show()"
   ]
  },
  {
   "cell_type": "code",
   "execution_count": 17,
   "id": "7a945746",
   "metadata": {},
   "outputs": [
    {
     "data": {
      "text/plain": [
       "False"
      ]
     },
     "execution_count": 17,
     "metadata": {},
     "output_type": "execute_result"
    }
   ],
   "source": [
    "np.all(ga == 0)"
   ]
  },
  {
   "cell_type": "code",
   "execution_count": 21,
   "id": "0a50c03a",
   "metadata": {},
   "outputs": [
    {
     "data": {
      "image/png": "[encoded data removed]",
      "text/plain": [
       "<Figure size 640x480 with 1 Axes>"
      ]
     },
     "metadata": {},
     "output_type": "display_data"
    }
   ],
   "source": [
    "t = np.linspace(4,100,P2.y.shape[1])\n",
    "plt.plot(t,P2.y[2,:])\n",
    "plt.show()\n",
    "# plt.plot(t,P1.y[0,0:dim],'b',label=\"Vr=-0.2\")"
   ]
  },
  {
   "cell_type": "code",
   "execution_count": 15,
   "id": "dee45e3e",
   "metadata": {},
   "outputs": [
    {
     "data": {
      "text/plain": [
       "False"
      ]
     },
     "execution_count": 15,
     "metadata": {},
     "output_type": "execute_result"
    }
   ],
   "source": [
    "np.all(P1.y[1,:]<0.1)"
   ]
  },
  {
   "cell_type": "code",
   "execution_count": 74,
   "id": "b71749b1",
   "metadata": {},
   "outputs": [
    {
     "data": {
      "text/plain": [
       "Text(0.5, 1.0, '$V_z - z $')"
      ]
     },
     "execution_count": 74,
     "metadata": {},
     "output_type": "execute_result"
    },
    {
     "data": {
      "image/png": "[encoded data removed]",
      "text/plain": [
       "<Figure size 640x480 with 1 Axes>"
      ]
     },
     "metadata": {},
     "output_type": "display_data"
    }
   ],
   "source": [
    "dim = min(P1.y.shape[1], P2.y.shape[1], P3.y.shape[1])\n",
    "# dim = 21\n",
    "# t = np.linspace(4,100,50)\n",
    "t = np.linspace(4,60,dim)\n",
    "plt.plot(t,P1.y[0,0:dim],'b',label=\"a=0.1\")\n",
    "plt.plot(t,P2.y[0,0:dim],'r',label=\"a=0.5\")\n",
    "plt.plot(t,P3.y[0,0:dim],'g',label=\"a=1.0\")\n",
    "plt.legend()\n",
    "plt.xlabel(r\"$z$\")\n",
    "# plt.xlim(0,70)\n",
    "# plt.xticks(np.arange(0,71,5))\n",
    "# plt.ylabel(r\"$V_r$\")\n",
    "# plt.ylabel(r\"$V_ϕ$\")\n",
    "# plt.ylabel(r\"$V_z$\")\n",
    "# plt.ylim(0.7,0.)\n",
    "# plt.text(90,0.4,\"B=4.7e4 \\n Vz=0.75\")\n",
    "# plt.title(r\"$V_r - r$\")\n",
    "# plt.title(r\"$V_ϕ - r$\")\n",
    "plt.title(r\"$V_z - z $\")\n",
    "# plt.show()\n",
    "\n",
    "\n",
    "# plt.savefig(\"Vz_a\")"
   ]
  },
  {
   "cell_type": "code",
   "execution_count": 75,
   "id": "c490b842",
   "metadata": {},
   "outputs": [
    {
     "data": {
      "text/plain": [
       "Text(0.5, 1.0, '$V_ϕ - z$')"
      ]
     },
     "execution_count": 75,
     "metadata": {},
     "output_type": "execute_result"
    },
    {
     "data": {
      "image/png": "[encoded data removed]",
      "text/plain": [
       "<Figure size 640x480 with 1 Axes>"
      ]
     },
     "metadata": {},
     "output_type": "display_data"
    }
   ],
   "source": [
    "# dim = min(P1.y.shape[1], P2.y.shape[1], P3.y.shape[1])\n",
    "dim = 21\n",
    "# t = np.linspace(4,100,50)\n",
    "t = np.linspace(4,60,dim)\n",
    "plt.plot(t,P1.y[1,0:dim],'b',label=\"a=0.1\")\n",
    "plt.plot(t,P2.y[1,0:dim],'r',label=\"a=0.5\")\n",
    "plt.plot(t,P3.y[1,0:dim],'g',label=\"a=1.0\")\n",
    "plt.legend()\n",
    "plt.xlabel(r\"$z$\")\n",
    "# plt.xlim(0,70)\n",
    "# plt.xticks(np.arange(0,71,5))\n",
    "plt.ylabel(r\"$V_ϕ$\")\n",
    "# plt.ylim(0,0.45)\n",
    "# plt.yticks(np.arange(0,0.46,0.05))\n",
    "# plt.text(80,0.3,\"B=4.7e4 \\n Vz=0.75\")\n",
    "plt.title(r\"$V_ϕ - z$\")\n",
    "# plt.show()\n",
    "# plt.savefig(\"Vϕ_a\")"
   ]
  },
  {
   "cell_type": "code",
   "execution_count": 76,
   "id": "8af0b1d9",
   "metadata": {},
   "outputs": [
    {
     "data": {
      "text/plain": [
       "Text(0.5, 1.0, '$B_ϕ - z$')"
      ]
     },
     "execution_count": 76,
     "metadata": {},
     "output_type": "execute_result"
    },
    {
     "data": {
      "image/png": "[encoded data removed]",
      "text/plain": [
       "<Figure size 640x480 with 1 Axes>"
      ]
     },
     "metadata": {},
     "output_type": "display_data"
    }
   ],
   "source": [
    "# dim = min(P1.y.shape[1], P2.y.shape[1], P3.y.shape[1])\n",
    "dim = 21\n",
    "# t = np.linspace(4,100,50)\n",
    "t = np.linspace(4,60,dim)\n",
    "plt.plot(t,P1.y[2,0:dim],'b',label=\"a=0.1\")\n",
    "plt.plot(t,P2.y[2,0:dim],'r',label=\"a=0.5\")\n",
    "plt.plot(t,P3.y[2,0:dim],'g',label=\"a=1.0\")\n",
    "plt.legend()\n",
    "# plt.xlabel(r\"$z$\")\n",
    "# plt.xlim(0,70)\n",
    "# plt.xticks(np.arange(0,71,5))\n",
    "plt.ylabel(r\"$B_ϕ$\")\n",
    "# plt.ylim(0,0.45)\n",
    "# plt.yticks(np.arange(0,0.46,0.05))\n",
    "plt.title(r\"$B_ϕ - z$\")\n",
    "# plt.text(90,50e3,\"B=4.7e4 \\n Vz=0.75\")\n",
    "# plt.show()\n",
    "# plt.savefig(\"Bϕ_a\")"
   ]
  },
  {
   "cell_type": "code",
   "execution_count": 20,
   "id": "f6d2c1d9",
   "metadata": {},
   "outputs": [
    {
     "data": {
      "text/plain": [
       "True"
      ]
     },
     "execution_count": 20,
     "metadata": {},
     "output_type": "execute_result"
    }
   ],
   "source": [
    "np.any(P1.y[1,:]<0)"
   ]
  },
  {
   "cell_type": "code",
   "execution_count": 21,
   "id": "8e37c137",
   "metadata": {},
   "outputs": [
    {
     "data": {
      "text/plain": [
       "array([ 0.45      ,  0.6327878 ,  0.71507533, ..., -0.00189005,\n",
       "       -0.00189008, -0.00189078])"
      ]
     },
     "execution_count": 21,
     "metadata": {},
     "output_type": "execute_result"
    }
   ],
   "source": [
    "P1.y[1,:]"
   ]
  },
  {
   "cell_type": "code",
   "execution_count": null,
   "id": "e19cde28",
   "metadata": {},
   "outputs": [],
   "source": []
  }
 ],
 "metadata": {
  "kernelspec": {
   "display_name": "Python 3 (ipykernel)",
   "language": "python",
   "name": "python3"
  },
  "language_info": {
   "codemirror_mode": {
    "name": "ipython",
    "version": 3
   },
   "file_extension": ".py",
   "mimetype": "text/x-python",
   "name": "python",
   "nbconvert_exporter": "python",
   "pygments_lexer": "ipython3",
   "version": "3.11.5"
  }
 },
 "nbformat": 4,
 "nbformat_minor": 5
}
