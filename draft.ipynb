{
 "cells": [
  {
   "cell_type": "markdown",
   "id": "6a513999",
   "metadata": {},
   "source": [
    "# Euler"
   ]
  },
  {
   "cell_type": "code",
   "execution_count": null,
   "id": "c84ccd6a",
   "metadata": {},
   "outputs": [],
   "source": [
    "import numpy as np\n",
    "import matplotlib.pyplot as plt\n",
    "def odeEuler(f,y0,t):\n",
    "    y = np.zeros(len(t))\n",
    "    y[0] = y0\n",
    "    for n in range(0,len(t)-1):\n",
    "        y[n+1] = y[n] + f(y[n],t[n])*(t[n+1] - t[n])\n",
    "    return y\n",
    "t = np.linspace(0,2,21)\n",
    "y0 = 1\n",
    "f = lambda y,t: y\n",
    "y = odeEuler(f,y0,t)\n",
    "y_true = np.exp(t)\n",
    "plt.plot(t,y,'b.-',t,y_true,'r-')\n",
    "plt.legend(['Euler','True'])\n",
    "plt.axis([0,2,0,9])\n",
    "plt.grid(True)\n",
    "plt.title(\"Solution of $y'=y , y(0)=1$\")\n",
    "plt.show()\n"
   ]
  },
  {
   "cell_type": "markdown",
   "id": "8202fdd3",
   "metadata": {},
   "source": [
    "# RK4"
   ]
  },
  {
   "cell_type": "code",
   "execution_count": null,
   "id": "0adb2af4",
   "metadata": {},
   "outputs": [],
   "source": [
    "def dydx(x, y): \n",
    "    return ((x - y)/2) \n",
    "\n",
    "def rungeKutta(x0, y0, x, h): \n",
    "    n = (int)((x - x0)/h) \n",
    "    y = y0 \n",
    "    for i in range(1, n + 1): \n",
    "        k1 = h * dydx(x0, y) \n",
    "        k2 = h * dydx(x0 + 0.5 * h, y + 0.5 * k1) \n",
    "        k3 = h * dydx(x0 + 0.5 * h, y + 0.5 * k2) \n",
    "        k4 = h * dydx(x0 + h, y + k3) \n",
    "\n",
    "        y = y + (1.0 / 6.0)*(k1 + 2 * k2 + 2 * k3 + k4) \n",
    "        x0 = x0 + h \n",
    "    return y \n",
    "\n",
    "x0 = 0\n",
    "y = 1\n",
    "x = 2\n",
    "h = 0.2\n",
    "print ('The value of y at x is:', rungeKutta(x0, y, x, h) )"
   ]
  },
  {
   "cell_type": "markdown",
   "id": "751e3cd2",
   "metadata": {},
   "source": [
    "# ode"
   ]
  },
  {
   "cell_type": "code",
   "execution_count": null,
   "id": "03a54ea9",
   "metadata": {},
   "outputs": [],
   "source": [
    "import numpy as np\n",
    "from scipy.integrate import odeint\n",
    "import matplotlib.pyplot as plt\n",
    "def model(y,t):\n",
    "    dydt = -y + 1.0\n",
    "    return dydt\n",
    "\n",
    "y0 = 0\n",
    "t = np.linspace(0,5)\n",
    "y = odeint(model,y0,t)\n",
    "\n",
    "print(np.column_stack((t,y)))\n",
    "\n",
    "plt.plot(t,y)\n",
    "plt.xlabel('time')\n",
    "plt.ylabel('y(t)')\n",
    "plt.show()"
   ]
  },
  {
   "cell_type": "markdown",
   "id": "05f1b058",
   "metadata": {},
   "source": [
    "# ode-c"
   ]
  },
  {
   "cell_type": "code",
   "execution_count": null,
   "id": "7fd52d39",
   "metadata": {},
   "outputs": [],
   "source": [
    "import numpy as np\n",
    "from scipy.integrate import odeint\n",
    "import matplotlib.pyplot as plt\n",
    "def model(z,t):\n",
    "    dxdt = 3.0 * np.exp(-t)\n",
    "    dydt = -z[1] + 3\n",
    "    dzdt = [dxdt,dydt]\n",
    "    return dzdt\n",
    "z0 = [0,0]\n",
    "t = np.linspace(0,5)\n",
    "z = odeint(model,z0,t)\n",
    "print(np.column_stack((t,z))) \n",
    "plt.plot(t,z[:,0],'b-',label=r'$\\frac{dx}{dt}=3 \\; \\exp(-t)$')\n",
    "plt.plot(t,z[:,1],'r--',label=r'$\\frac{dy}{dt}=-y+3$')\n",
    "plt.ylabel('response')\n",
    "plt.xlabel('time')\n",
    "plt.legend(loc='best')\n",
    "plt.show()"
   ]
  }
 ],
 "metadata": {
  "kernelspec": {
   "display_name": "Python 3 (ipykernel)",
   "language": "python",
   "name": "python3"
  },
  "language_info": {
   "codemirror_mode": {
    "name": "ipython",
    "version": 3
   },
   "file_extension": ".py",
   "mimetype": "text/x-python",
   "name": "python",
   "nbconvert_exporter": "python",
   "pygments_lexer": "ipython3",
   "version": "3.11.5"
  }
 },
 "nbformat": 4,
 "nbformat_minor": 5
}
