{
 "cells": [
  {
   "cell_type": "code",
   "execution_count": 1,
   "id": "42c82fd5",
   "metadata": {},
   "outputs": [],
   "source": [
    "import numpy as np \n",
    "import matplotlib.pyplot as plt \n",
    "from scipy.integrate import odeint, solve_ivp"
   ]
  },
  {
   "cell_type": "code",
   "execution_count": 2,
   "id": "2168da28",
   "metadata": {},
   "outputs": [],
   "source": [
    "def Model(V,r,U):\n",
    "    K = -0.1;\n",
    "    m = 1e4;\n",
    "    Vt = 0.0;\n",
    "    a = 0.1;\n",
    "    # ===============================\n",
    "    Γtt_t = 0  # (1)\n",
    "    Γtr_t = (m * r * (r**5 + 2 * m * r**4 - 2 * m * a**2 * r**2 ))\\\n",
    "    /(r**4 * (r**4 - 4 * m**2 * r**2 + 4 * a**2 * m**2 )); # (2)\n",
    "    Γtϕ_t = 0; # (3)\n",
    "    Γtz_t = 0;  # (4)\n",
    "    # ================================\n",
    "    Γrt_t = ((m * r**3) * (r**3 + 2 * r**2 * m - 2 * m * a**2) )\\\n",
    "    /(r**4 * (r**4 - 4 * r**2 * m**2 + 4 * a**2 * m**2)); # (5)\n",
    "    Γrr_t = 0;  # (6)\n",
    "    Γrϕ_t = -(m * a * r * (3 * r + 4 * m))\\\n",
    "    /(r**4 - 4 * r**2 * m**2 + 4 * a**2 * m**2);   # (7)\n",
    "    Γrz_t = 0 ; # (8)\n",
    "    # =================================\n",
    "    Γϕt_t = 0; # (9)\n",
    "    Γϕr_t = -(m * a * r * (3 * r + 4 * m))\\\n",
    "    /(r**4 - 4 * r**2 * m**2 + 4 * a**2 + m**2 );  # (10)\n",
    "    Γϕϕ_t = 0;  # (11)\n",
    "    Γϕz_t = 0;  # (12)\n",
    "    # ==================================\n",
    "    Γzt_t = 0;  # (13)\n",
    "    Γzr_t = 0;  # (14)\n",
    "    Γzϕ_t = 0;  # (15)\n",
    "    Γzz_t = 0;  # (16)\n",
    "    # ==================================\n",
    "    Γtt_r = (m)/(r * (r**2 + 2*m));  # (17)\n",
    "    Γtr_r = 0;  # (18)\n",
    "    Γtϕ_r = - (m * a)/(r * (r + 2 * m));  # (19)\n",
    "    Γtz_r = 0;  # (20)\n",
    "    # =================================\n",
    "    Γrt_r = 0;  # (21)\n",
    "    Γrr_r = - (m)/(r * (r + 2 * m));  # (22)\n",
    "    Γrϕ_r = 0;   # (23)\n",
    "    Γrz_r = 0;  # (24)\n",
    "    # =================================\n",
    "    Γϕt_r = -(m * a)/(r * (r + 2 * m));  # (25)\n",
    "    Γϕr_r = 0;  # (26)\n",
    "    Γϕϕ_r = -(r * (r + m))/(r + 2 * m); # (27)\n",
    "    Γϕz_r = 0; # (28)\n",
    "    # ================================\n",
    "    Γzt_r = 0; # (29)\n",
    "    Γzr_r = 0; # (30)\n",
    "    Γzϕ_r = 0; # (31)\n",
    "    Γzz_r = (m)/(r * (r + 2 * m)); # (32)\n",
    "    # =================================\n",
    "    Γtt_ϕ = 0; # (33)\n",
    "    Γtr_ϕ = (a * m)/(r**4 - 4 * r**2 * m**2 + 4 * a**2 * m**2); # (34)\n",
    "    Γtϕ_ϕ = 0; # (35)\n",
    "    Γtz_ϕ = 0; # (36)\n",
    "    # ==================================\n",
    "    Γrt_ϕ = (a * m)/(r**4 - 4 * r**2 * m**2 + 4 * a**2 * m**2); # (37)\n",
    "    Γrr_ϕ = 0; # (38)\n",
    "    Γrϕ_ϕ = -(r**3 * m - r**4 + 2 * r**2 * m**2 + 2 * a**2 * m**2)\\\n",
    "    /(r**4 - 4 * r**2 * m**2 + 4 * a**2 * m**2); # (39)\n",
    "    Γrz_ϕ = 0; # (40)\n",
    "    # ==================================\n",
    "    Γϕt_ϕ = 0;  # (41)\n",
    "    Γϕr_ϕ = -(r**3 * m - r**4 + 2 * r**2 * m**2 + 2 * a**2 * m**2)\\\n",
    "    /(r**4 - 4 * r**2 * m**2 + 4 * a**2 * m**2);  # (42)\n",
    "    Γϕϕ_ϕ = 0;  # (43)\n",
    "    Γϕz_ϕ = 0;  # (44)\n",
    "    # ==================================\n",
    "    Γzt_ϕ = 0;  # (45)\n",
    "    Γzr_ϕ = 0;  # (46)\n",
    "    Γzϕ_ϕ = 0;  # (47)\n",
    "    Γzz_ϕ = 0;  # (48)\n",
    "    # ================================\n",
    "    Γtt_z = 0;  # (49)\n",
    "    Γtr_z = 0;  # (50)\n",
    "    Γtϕ_z = 0;  # (51)\n",
    "    Γtz_z = 0;  # (52)\n",
    "    # ====================================\n",
    "    Γrt_z = 0;  # (53)\n",
    "    Γrr_z = 0;  # (54)\n",
    "    Γrϕ_z = 0;  # (55)\n",
    "    Γrz_z = -(m)/(r * (r + 2 * m));  # (56)\n",
    "    # =================================\n",
    "    Γϕt_z = 0;  # (57)\n",
    "    Γϕr_z = 0;  # (58)\n",
    "    Γϕϕ_z = 0;  # (59)\n",
    "    Γϕz_z = 0;  # (60)\n",
    "    # ====================================\n",
    "    Γzt_z = 0;  # (61)\n",
    "    Γzr_z = -(m)/(r * (r + 2 * m));  # (62)\n",
    "    Γzϕ_z = 0;  # (63)\n",
    "    Γzz_z = 0;  # (64)\n",
    "    # ====================================\n",
    "    # initial state \n",
    "    Vr = V[0]\n",
    "    Vϕ = V[1]\n",
    "    Bϕ = V[2]\n",
    "    U0 = U\n",
    "    Ur = U0*Vr\n",
    "    \n",
    "    \n",
    "    \n",
    "    # Vϕ Conputation\n",
    "    dVϕdr = (-1.0/Vr)*((2*Vr*(Γtr_ϕ - Γtr_t*Vϕ))+\\\n",
    "#                           V[0]*V[2]*(Γrt_ϕ - Γrt_t*V[1]) +\\\n",
    "                          Vr*Vϕ*(Γϕr_ϕ - Γϕr_t*Vϕ)+\\\n",
    "                          Vr*Vϕ*(Γϕr_ϕ - Γϕr_t*Vϕ)+\\\n",
    "                          Vr*Vϕ*(Γrϕ_ϕ - Γrϕ_t*Vϕ))\n",
    "    \n",
    "    \n",
    "    L1 = Γtt_r - 2 * Γtr_t * Vr*Vr + 2 * Vϕ * Γtϕ_r + \\\n",
    "    Vt*Vr*(Γrt_t - Γrt_t * Vr) + \\\n",
    "    (Vr * Vr * Γrr_r) - (Γϕr_t * Vr * Vr * Vϕ) - \\\n",
    "    (Γrϕ_t * Vr * Vr * Vϕ) + (Γϕϕ_r * Vϕ * Vϕ)\n",
    "    \n",
    "    L2 = Vr * (Γrr_r + Γϕr_ϕ + Γzr_z - Γrt_t) + \\\n",
    "    Vr * (Γrz_r + Γϕz_ϕ + Γzz_z - Γzt_t) - \\\n",
    "    Vr * Vϕ * (Γrϕ_t + Γϕr_t)\n",
    "    \n",
    "    dBϕdr = ( 1/(Bϕ*(1+2*Ur*U0))) * ((r**1.5 + K*r**2.5) * U0**2 * (L1) - \\\n",
    "            ((r**1.5 + r**2.5)**2) * U0**2 * (1/4*r) * (L2)* Vr + \\\n",
    "            2.5 * r**1.5 * (1 + 2*m/r))  - \\\n",
    "            Bϕ * (1/r + 1/r**2)\n",
    "    \n",
    "    Jz = -Bϕ * (1/r + 1/r**2) - dBϕdr\n",
    "    \n",
    "    \n",
    "        \n",
    "    dVrdr = -(Vr*(Γrr_r + Γϕr_ϕ + Γzr_z - Γrt_t +Γrz_r + Γϕz_ϕ + Γzz_z - Γzt_t) - \\\n",
    "               Vr*Vϕ*(Γrϕ_t + Γϕr_t)) -\\\n",
    "    Vr*((1.5 * r**0.5 - 2.5 * K * r**1.5)/(r**1.5 + K * r**2.5))\n",
    "    \n",
    "    \n",
    "    dVdr = [dVrdr, dVϕdr, dBϕdr]\n",
    "    return dVdr"
   ]
  },
  {
   "cell_type": "code",
   "execution_count": 3,
   "id": "ae71609e",
   "metadata": {},
   "outputs": [],
   "source": [
    "Vr0 = 0.12;\n",
    "Vϕ0 = 0.918;\n",
    "Bϕ0 = 1e4;\n",
    "V0 = [Vr0, Vϕ0, Bϕ0]\n",
    "# number of time points\n",
    "n = 60\n",
    "# time points\n",
    "t = np.linspace(10,100,n)\n",
    "\n",
    "# store solution\n",
    "Vr = np.empty_like(t)\n",
    "Vϕ = np.empty_like(t)\n",
    "Bϕ = np.empty_like(t)\n",
    "U = np.empty_like(t)\n",
    "\n",
    "Vr[0] = V0[0]\n",
    "Vϕ[0] = V0[1]\n",
    "Bϕ[0] = V0[2]\n",
    "U[0] = 1/(np.sqrt(1 - (Vr[0]**2 + Vϕ[0]**2))) "
   ]
  },
  {
   "cell_type": "code",
   "execution_count": 4,
   "id": "3fcf618c",
   "metadata": {},
   "outputs": [
    {
     "data": {
      "text/plain": [
       "array([ 10.        ,  11.52542373,  13.05084746,  14.57627119,\n",
       "        16.10169492,  17.62711864,  19.15254237,  20.6779661 ,\n",
       "        22.20338983,  23.72881356,  25.25423729,  26.77966102,\n",
       "        28.30508475,  29.83050847,  31.3559322 ,  32.88135593,\n",
       "        34.40677966,  35.93220339,  37.45762712,  38.98305085,\n",
       "        40.50847458,  42.03389831,  43.55932203,  45.08474576,\n",
       "        46.61016949,  48.13559322,  49.66101695,  51.18644068,\n",
       "        52.71186441,  54.23728814,  55.76271186,  57.28813559,\n",
       "        58.81355932,  60.33898305,  61.86440678,  63.38983051,\n",
       "        64.91525424,  66.44067797,  67.96610169,  69.49152542,\n",
       "        71.01694915,  72.54237288,  74.06779661,  75.59322034,\n",
       "        77.11864407,  78.6440678 ,  80.16949153,  81.69491525,\n",
       "        83.22033898,  84.74576271,  86.27118644,  87.79661017,\n",
       "        89.3220339 ,  90.84745763,  92.37288136,  93.89830508,\n",
       "        95.42372881,  96.94915254,  98.47457627, 100.        ])"
      ]
     },
     "execution_count": 4,
     "metadata": {},
     "output_type": "execute_result"
    }
   ],
   "source": [
    "t"
   ]
  },
  {
   "cell_type": "code",
   "execution_count": null,
   "id": "8bf9594d",
   "metadata": {},
   "outputs": [],
   "source": [
    "for s in range(1,n):\n",
    "    # span for next time step\n",
    "    tspan = [t[s-1],t[s]]\n",
    "    # solve for next step\n",
    "    V = odeint(Model,V0,tspan,args=(U[s-1],))\n",
    "    # store solution for plotting\n",
    "    Vr[s] = V[1][0]\n",
    "    Vϕ[s] = V[1][1]\n",
    "    Bϕ[s] = V[1][2]\n",
    "    # next initial condition\n",
    "    V0 = V[1]\n",
    "    U[s] = 1/(np.sqrt(1 - (Vr[s]**2 + Vϕ[s]**2)))     "
   ]
  },
  {
   "cell_type": "code",
   "execution_count": 5,
   "id": "086ff80d",
   "metadata": {},
   "outputs": [
    {
     "data": {
      "image/png": "[encoded data removed]",
      "text/plain": [
       "<Figure size 640x480 with 1 Axes>"
      ]
     },
     "metadata": {},
     "output_type": "display_data"
    }
   ],
   "source": [
    "plt.plot(t,Vr)\n",
    "plt.show()"
   ]
  },
  {
   "cell_type": "code",
   "execution_count": 6,
   "id": "96e081e5",
   "metadata": {},
   "outputs": [
    {
     "data": {
      "image/png": "[encoded data removed]",
      "text/plain": [
       "<Figure size 640x480 with 1 Axes>"
      ]
     },
     "metadata": {},
     "output_type": "display_data"
    }
   ],
   "source": [
    "plt.plot(t,Vϕ)\n",
    "plt.show()"
   ]
  },
  {
   "cell_type": "code",
   "execution_count": 7,
   "id": "4eaad5d1",
   "metadata": {},
   "outputs": [
    {
     "data": {
      "image/png": "[encoded data removed]",
      "text/plain": [
       "<Figure size 640x480 with 1 Axes>"
      ]
     },
     "metadata": {},
     "output_type": "display_data"
    }
   ],
   "source": [
    "plt.plot(t,Bϕ)\n",
    "plt.show()\n",
    "# Vr.shape"
   ]
  },
  {
   "cell_type": "code",
   "execution_count": null,
   "id": "f03f5184",
   "metadata": {},
   "outputs": [],
   "source": []
  }
 ],
 "metadata": {
  "kernelspec": {
   "display_name": "Python 3 (ipykernel)",
   "language": "python",
   "name": "python3"
  },
  "language_info": {
   "codemirror_mode": {
    "name": "ipython",
    "version": 3
   },
   "file_extension": ".py",
   "mimetype": "text/x-python",
   "name": "python",
   "nbconvert_exporter": "python",
   "pygments_lexer": "ipython3",
   "version": "3.9.13"
  }
 },
 "nbformat": 4,
 "nbformat_minor": 5
}
