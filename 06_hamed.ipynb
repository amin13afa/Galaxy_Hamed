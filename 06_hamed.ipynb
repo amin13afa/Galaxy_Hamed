{
 "cells": [
  {
   "cell_type": "code",
   "execution_count": 1,
   "id": "6d4690a9",
   "metadata": {},
   "outputs": [],
   "source": [
    "import numpy as np \n",
    "import matplotlib.pyplot as plt \n",
    "from scipy.integrate import odeint, solve_ivp"
   ]
  },
  {
   "cell_type": "code",
   "execution_count": 2,
   "id": "ebadc412",
   "metadata": {},
   "outputs": [],
   "source": [
    "def Model(V,r,U):\n",
    "    K = -0.1;\n",
    "    m = 1e4;\n",
    "    Vt = 0.0;\n",
    "    a = 0.1;\n",
    "    # ===============================\n",
    "    Γtt_t = 0  # (1)\n",
    "    Γtr_t = (m * r * (r**5 + 2 * m * r**4 - 2 * m * a**2 * r**2 ))\\\n",
    "    /(r**4 * (r**4 - 4 * m**2 * r**2 + 4 * a**2 * m**2 )); # (2)\n",
    "    Γtϕ_t = 0; # (3)\n",
    "    Γtz_t = 0;  # (4)\n",
    "    # ================================\n",
    "    Γrt_t = ((m * r**3) * (r**3 + 2 * r**2 * m - 2 * m * a**2) )\\\n",
    "    /(r**4 * (r**4 - 4 * r**2 * m**2 + 4 * a**2 * m**2)); # (5)\n",
    "    Γrr_t = 0;  # (6)\n",
    "    Γrϕ_t = -(m * a * r * (3 * r + 4 * m))\\\n",
    "    /(r**4 - 4 * r**2 * m**2 + 4 * a**2 * m**2);   # (7)\n",
    "    Γrz_t = 0 ; # (8)\n",
    "    # =================================\n",
    "    Γϕt_t = 0; # (9)\n",
    "    Γϕr_t = -(m * a * r * (3 * r + 4 * m))\\\n",
    "    /(r**4 - 4 * r**2 * m**2 + 4 * a**2 + m**2 );  # (10)\n",
    "    Γϕϕ_t = 0;  # (11)\n",
    "    Γϕz_t = 0;  # (12)\n",
    "    # ==================================\n",
    "    Γzt_t = 0;  # (13)\n",
    "    Γzr_t = 0;  # (14)\n",
    "    Γzϕ_t = 0;  # (15)\n",
    "    Γzz_t = 0;  # (16)\n",
    "    # ==================================\n",
    "    Γtt_r = (m)/(r * (r**2 + 2*m));  # (17)\n",
    "    Γtr_r = 0;  # (18)\n",
    "    Γtϕ_r = - (m * a)/(r * (r + 2 * m));  # (19)\n",
    "    Γtz_r = 0;  # (20)\n",
    "    # =================================\n",
    "    Γrt_r = 0;  # (21)\n",
    "    Γrr_r = - (m)/(r * (r + 2 * m));  # (22)\n",
    "    Γrϕ_r = 0;   # (23)\n",
    "    Γrz_r = 0;  # (24)\n",
    "    # =================================\n",
    "    Γϕt_r = -(m * a)/(r * (r + 2 * m));  # (25)\n",
    "    Γϕr_r = 0;  # (26)\n",
    "    Γϕϕ_r = -(r * (r + m))/(r + 2 * m); # (27)\n",
    "    Γϕz_r = 0; # (28)\n",
    "    # ================================\n",
    "    Γzt_r = 0; # (29)\n",
    "    Γzr_r = 0; # (30)\n",
    "    Γzϕ_r = 0; # (31)\n",
    "    Γzz_r = (m)/(r * (r + 2 * m)); # (32)\n",
    "    # =================================\n",
    "    Γtt_ϕ = 0; # (33)\n",
    "    Γtr_ϕ = (a * m)/(r**4 - 4 * r**2 * m**2 + 4 * a**2 * m**2); # (34)\n",
    "    Γtϕ_ϕ = 0; # (35)\n",
    "    Γtz_ϕ = 0; # (36)\n",
    "    # ==================================\n",
    "    Γrt_ϕ = (a * m)/(r**4 - 4 * r**2 * m**2 + 4 * a**2 * m**2); # (37)\n",
    "    Γrr_ϕ = 0; # (38)\n",
    "    Γrϕ_ϕ = -(r**3 * m - r**4 + 2 * r**2 * m**2 + 2 * a**2 * m**2)\\\n",
    "    /(r**4 - 4 * r**2 * m**2 + 4 * a**2 * m**2); # (39)\n",
    "    Γrz_ϕ = 0; # (40)\n",
    "    # ==================================\n",
    "    Γϕt_ϕ = 0;  # (41)\n",
    "    Γϕr_ϕ = -(r**3 * m - r**4 + 2 * r**2 * m**2 + 2 * a**2 * m**2)\\\n",
    "    /(r**4 - 4 * r**2 * m**2 + 4 * a**2 * m**2);  # (42)\n",
    "    Γϕϕ_ϕ = 0;  # (43)\n",
    "    Γϕz_ϕ = 0;  # (44)\n",
    "    # ==================================\n",
    "    Γzt_ϕ = 0;  # (45)\n",
    "    Γzr_ϕ = 0;  # (46)\n",
    "    Γzϕ_ϕ = 0;  # (47)\n",
    "    Γzz_ϕ = 0;  # (48)\n",
    "    # ================================\n",
    "    Γtt_z = 0;  # (49)\n",
    "    Γtr_z = 0;  # (50)\n",
    "    Γtϕ_z = 0;  # (51)\n",
    "    Γtz_z = 0;  # (52)\n",
    "    # ====================================\n",
    "    Γrt_z = 0;  # (53)\n",
    "    Γrr_z = 0;  # (54)\n",
    "    Γrϕ_z = 0;  # (55)\n",
    "    Γrz_z = -(m)/(r * (r + 2 * m));  # (56)\n",
    "    # =================================\n",
    "    Γϕt_z = 0;  # (57)\n",
    "    Γϕr_z = 0;  # (58)\n",
    "    Γϕϕ_z = 0;  # (59)\n",
    "    Γϕz_z = 0;  # (60)\n",
    "    # ====================================\n",
    "    Γzt_z = 0;  # (61)\n",
    "    Γzr_z = -(m)/(r * (r + 2 * m));  # (62)\n",
    "    Γzϕ_z = 0;  # (63)\n",
    "    Γzz_z = 0;  # (64)\n",
    "    # ====================================\n",
    "    # initial state \n",
    "    Vr = V[0]\n",
    "    Vϕ = V[1]\n",
    "    Bϕ = V[2]\n",
    "    U0 = U\n",
    "    Ur = U0*Vr\n",
    "    \n",
    "    \n",
    "    \n",
    "    # Vϕ Conputation\n",
    "    dVϕdr = (-1.0/Vr)*((2*Vr*(Γtr_ϕ - Γtr_t*Vϕ))+\\\n",
    "#                           V[0]*V[2]*(Γrt_ϕ - Γrt_t*V[1]) +\\\n",
    "                          Vr*Vϕ*(Γϕr_ϕ - Γϕr_t*Vϕ)+\\\n",
    "                          Vr*Vϕ*(Γϕr_ϕ - Γϕr_t*Vϕ)+\\\n",
    "                          Vr*Vϕ*(Γrϕ_ϕ - Γrϕ_t*Vϕ))\n",
    "    \n",
    "    \n",
    "    L1 = Γtt_r - 2 * Γtr_t * Vr*Vr + 2 * Vϕ * Γtϕ_r + \\\n",
    "    Vt*Vr*(Γrt_t - Γrt_t * Vr) + \\\n",
    "    (Vr * Vr * Γrr_r) - (Γϕr_t * Vr * Vr * Vϕ) - \\\n",
    "    (Γrϕ_t * Vr * Vr * Vϕ) + (Γϕϕ_r * Vϕ * Vϕ)\n",
    "    \n",
    "    L2 = Vr * (Γrr_r + Γϕr_ϕ + Γzr_z - Γrt_t) + \\\n",
    "    Vr * (Γrz_r + Γϕz_ϕ + Γzz_z - Γzt_t) - \\\n",
    "    Vr * Vϕ * (Γrϕ_t + Γϕr_t)\n",
    "    \n",
    "    dBϕdr = ( 1/(Bϕ*(1+2*Ur*U0))) * ((r**1.5 + K*r**2.5) * U0**2 * (L1) - \\\n",
    "            ((r**1.5 + r**2.5)**2) * U0**2 * (1/4*r) * (L2)* Vr + \\\n",
    "            2.5 * r**1.5 * (1 + 2*m/r))  - \\\n",
    "            Bϕ * (1/r + 1/r**2)\n",
    "    \n",
    "    Jz = -Bϕ * (1/r + 1/r**2) - dBϕdr\n",
    "    \n",
    "    \n",
    "        \n",
    "    dVrdr = -(Vr*(Γrr_r + Γϕr_ϕ + Γzr_z - Γrt_t +Γrz_r + Γϕz_ϕ + Γzz_z - Γzt_t) - \\\n",
    "               Vr*Vϕ*(Γrϕ_t + Γϕr_t)) -\\\n",
    "    Vr*((1.5 * r**0.5 - 2.5 * K * r**1.5)/(r**1.5 + K * r**2.5))\n",
    "    \n",
    "    \n",
    "    dVdr = [dVrdr, dVϕdr, dBϕdr]\n",
    "    return dVdr "
   ]
  },
  {
   "cell_type": "code",
   "execution_count": 3,
   "id": "c716ca5a",
   "metadata": {},
   "outputs": [],
   "source": [
    "Vr0 = 0.12;\n",
    "Vϕ0 = 0.918;\n",
    "Bϕ0 = 1e4;\n",
    "V0 = [Vr0, Vϕ0, Bϕ0]\n",
    "# number of time points\n",
    "n = 60\n",
    "# time points\n",
    "# t = np.linspace(10,100,n)\n",
    "t = np.arange(10,100)\n",
    "\n",
    "# store solution\n",
    "Vr = np.empty_like(t)\n",
    "Vϕ = np.empty_like(t)\n",
    "Bϕ = np.empty_like(t)\n",
    "U = np.empty_like(t)\n",
    "\n",
    "Vr[0] = V0[0]\n",
    "Vϕ[0] = V0[1]\n",
    "Bϕ[0] = V0[2]\n",
    "U[0] = 1/(np.sqrt(1 - (Vr[0]**2 + Vϕ[0]**2))) "
   ]
  },
  {
   "cell_type": "code",
   "execution_count": 20,
   "id": "611bf161",
   "metadata": {},
   "outputs": [
    {
     "data": {
      "text/plain": [
       "(3, 2)"
      ]
     },
     "execution_count": 20,
     "metadata": {},
     "output_type": "execute_result"
    }
   ],
   "source": [
    "a = np.zeros((3,2))\n",
    "# a[0][0] = 1\n",
    "# a[1][1] = 2\n",
    "a.shape"
   ]
  },
  {
   "cell_type": "code",
   "execution_count": 8,
   "id": "a2565c64",
   "metadata": {},
   "outputs": [
    {
     "name": "stdout",
     "output_type": "stream",
     "text": [
      " lsoda--  warning..internal t (=r1) and h (=r2) are\u0000\u0000\n",
      "       such that in the machine, t + h = t on the next step  \n",
      "       (h = step size). solver will continue anyway\u0000\u0000\n",
      "      in above,  r1 =  0.1000000000000D+02   r2 =  0.5340843854985D-27\n",
      " lsoda--  warning..internal t (=r1) and h (=r2) are\u0000\u0000\n",
      "       such that in the machine, t + h = t on the next step  \n",
      "       (h = step size). solver will continue anyway\u0000\u0000\n",
      "      in above,  r1 =  0.1000000000000D+02   r2 =  0.3666902884628D-27\n",
      " lsoda--  warning..internal t (=r1) and h (=r2) are\u0000\u0000\n",
      "       such that in the machine, t + h = t on the next step  \n",
      "       (h = step size). solver will continue anyway\u0000\u0000\n",
      "      in above,  r1 =  0.1000000000000D+02   r2 =  0.7333805769255D-27\n",
      " lsoda--  warning..internal t (=r1) and h (=r2) are\u0000\u0000\n",
      "       such that in the machine, t + h = t on the next step  \n",
      "       (h = step size). solver will continue anyway\u0000\u0000\n",
      "      in above,  r1 =  0.1000000000000D+02   r2 =  0.7333805769255D-27\n",
      " lsoda--  warning..internal t (=r1) and h (=r2) are\u0000\u0000\n",
      "       such that in the machine, t + h = t on the next step  \n",
      "       (h = step size). solver will continue anyway\u0000\u0000\n",
      "      in above,  r1 =  0.1000000000000D+02   r2 =  0.7333805769255D-27\n",
      " lsoda--  warning..internal t (=r1) and h (=r2) are\u0000\u0000\n",
      "       such that in the machine, t + h = t on the next step  \n",
      "       (h = step size). solver will continue anyway\u0000\u0000\n",
      "      in above,  r1 =  0.1000000000000D+02   r2 =  0.7333805769255D-26\n",
      " lsoda--  warning..internal t (=r1) and h (=r2) are\u0000\u0000\n",
      "       such that in the machine, t + h = t on the next step  \n",
      "       (h = step size). solver will continue anyway\u0000\u0000\n",
      "      in above,  r1 =  0.1000000000000D+02   r2 =  0.7333805769255D-26\n",
      " lsoda--  warning..internal t (=r1) and h (=r2) are\u0000\u0000\n",
      "       such that in the machine, t + h = t on the next step  \n",
      "       (h = step size). solver will continue anyway\u0000\u0000\n",
      "      in above,  r1 =  0.1000000000000D+02   r2 =  0.7333805769255D-26\n",
      " lsoda--  warning..internal t (=r1) and h (=r2) are\u0000\u0000\n",
      "       such that in the machine, t + h = t on the next step  \n",
      "       (h = step size). solver will continue anyway\u0000\u0000\n",
      "      in above,  r1 =  0.1000000000000D+02   r2 =  0.7333805769255D-26\n",
      " lsoda--  warning..internal t (=r1) and h (=r2) are\u0000\u0000\n",
      "       such that in the machine, t + h = t on the next step  \n",
      "       (h = step size). solver will continue anyway\u0000\u0000\n",
      "      in above,  r1 =  0.1000000000000D+02   r2 =  0.2842734882044D-25\n",
      " lsoda--  above warning has been issued i1 times.  \u0000\u0000\n",
      "       it will not be issued again for this problem\u0000\u0000\n",
      "      in above message,  i1 =        10\n",
      " lsoda--  warning..internal t (=r1) and h (=r2) are\u0000\u0000\n",
      "       such that in the machine, t + h = t on the next step  \n",
      "       (h = step size). solver will continue anyway\u0000\u0000\n",
      "      in above,  r1 =  0.1100000000000D+02   r2 =  0.6949313027276D-17\n",
      " lsoda--  warning..internal t (=r1) and h (=r2) are\u0000\u0000\n",
      "       such that in the machine, t + h = t on the next step  \n",
      "       (h = step size). solver will continue anyway\u0000\u0000\n",
      "      in above,  r1 =  0.1100000000000D+02   r2 =  0.1696609625800D-20\n",
      " lsoda--  warning..internal t (=r1) and h (=r2) are\u0000\u0000\n",
      "       such that in the machine, t + h = t on the next step  \n",
      "       (h = step size). solver will continue anyway\u0000\u0000\n",
      "      in above,  r1 =  0.1100000000000D+02   r2 =  0.2661179704464D-20\n",
      " lsoda--  warning..internal t (=r1) and h (=r2) are\u0000\u0000\n",
      "       such that in the machine, t + h = t on the next step  \n",
      "       (h = step size). solver will continue anyway\u0000\u0000\n",
      "      in above,  r1 =  0.1100000000000D+02   r2 =  0.2661179704464D-20\n",
      " lsoda--  warning..internal t (=r1) and h (=r2) are\u0000\u0000\n",
      "       such that in the machine, t + h = t on the next step  \n",
      "       (h = step size). solver will continue anyway\u0000\u0000\n",
      "      in above,  r1 =  0.1100000000000D+02   r2 =  0.2661179704464D-20\n",
      " lsoda--  warning..internal t (=r1) and h (=r2) are\u0000\u0000\n",
      "       such that in the machine, t + h = t on the next step  \n",
      "       (h = step size). solver will continue anyway\u0000\u0000\n",
      "      in above,  r1 =  0.1100000000000D+02   r2 =  0.6951690539503D-20\n",
      " lsoda--  warning..internal t (=r1) and h (=r2) are\u0000\u0000\n",
      "       such that in the machine, t + h = t on the next step  \n",
      "       (h = step size). solver will continue anyway\u0000\u0000\n",
      "      in above,  r1 =  0.1100000000000D+02   r2 =  0.6951690539503D-20\n",
      " lsoda--  warning..internal t (=r1) and h (=r2) are\u0000\u0000\n",
      "       such that in the machine, t + h = t on the next step  \n",
      "       (h = step size). solver will continue anyway\u0000\u0000\n",
      "      in above,  r1 =  0.1100000000000D+02   r2 =  0.6951690539503D-20\n",
      " lsoda--  warning..internal t (=r1) and h (=r2) are\u0000\u0000\n",
      "       such that in the machine, t + h = t on the next step  \n",
      "       (h = step size). solver will continue anyway\u0000\u0000\n",
      "      in above,  r1 =  0.1100000000000D+02   r2 =  0.2133397740321D-19\n",
      " lsoda--  warning..internal t (=r1) and h (=r2) are\u0000\u0000\n",
      "       such that in the machine, t + h = t on the next step  \n",
      "       (h = step size). solver will continue anyway\u0000\u0000\n",
      "      in above,  r1 =  0.1100000000000D+02   r2 =  0.2133397740321D-19\n",
      " lsoda--  above warning has been issued i1 times.  \u0000\u0000\n",
      "       it will not be issued again for this problem\u0000\u0000\n",
      "      in above message,  i1 =        10\n"
     ]
    },
    {
     "ename": "OverflowError",
     "evalue": "Python int too large to convert to C long",
     "output_type": "error",
     "traceback": [
      "\u001b[0;31m---------------------------------------------------------------------------\u001b[0m",
      "\u001b[0;31mOverflowError\u001b[0m                             Traceback (most recent call last)",
      "\u001b[0;32m/tmp/ipykernel_9461/1801051670.py\u001b[0m in \u001b[0;36m<module>\u001b[0;34m\u001b[0m\n\u001b[1;32m      5\u001b[0m     \u001b[0mV\u001b[0m \u001b[0;34m=\u001b[0m \u001b[0modeint\u001b[0m\u001b[0;34m(\u001b[0m\u001b[0mModel\u001b[0m\u001b[0;34m,\u001b[0m\u001b[0mV0\u001b[0m\u001b[0;34m,\u001b[0m\u001b[0mtspan\u001b[0m\u001b[0;34m,\u001b[0m\u001b[0margs\u001b[0m\u001b[0;34m=\u001b[0m\u001b[0;34m(\u001b[0m\u001b[0mU\u001b[0m\u001b[0;34m[\u001b[0m\u001b[0ms\u001b[0m\u001b[0;34m-\u001b[0m\u001b[0;36m1\u001b[0m\u001b[0;34m]\u001b[0m\u001b[0;34m,\u001b[0m\u001b[0;34m)\u001b[0m\u001b[0;34m)\u001b[0m\u001b[0;34m\u001b[0m\u001b[0;34m\u001b[0m\u001b[0m\n\u001b[1;32m      6\u001b[0m     \u001b[0;31m# store solution for plotting\u001b[0m\u001b[0;34m\u001b[0m\u001b[0;34m\u001b[0m\u001b[0m\n\u001b[0;32m----> 7\u001b[0;31m     \u001b[0mVr\u001b[0m\u001b[0;34m[\u001b[0m\u001b[0ms\u001b[0m\u001b[0;34m]\u001b[0m \u001b[0;34m=\u001b[0m \u001b[0mV\u001b[0m\u001b[0;34m[\u001b[0m\u001b[0;36m1\u001b[0m\u001b[0;34m]\u001b[0m\u001b[0;34m[\u001b[0m\u001b[0;36m0\u001b[0m\u001b[0;34m]\u001b[0m\u001b[0;34m\u001b[0m\u001b[0;34m\u001b[0m\u001b[0m\n\u001b[0m\u001b[1;32m      8\u001b[0m     \u001b[0mVϕ\u001b[0m\u001b[0;34m[\u001b[0m\u001b[0ms\u001b[0m\u001b[0;34m]\u001b[0m \u001b[0;34m=\u001b[0m \u001b[0mV\u001b[0m\u001b[0;34m[\u001b[0m\u001b[0;36m1\u001b[0m\u001b[0;34m]\u001b[0m\u001b[0;34m[\u001b[0m\u001b[0;36m1\u001b[0m\u001b[0;34m]\u001b[0m\u001b[0;34m\u001b[0m\u001b[0;34m\u001b[0m\u001b[0m\n\u001b[1;32m      9\u001b[0m     \u001b[0mBϕ\u001b[0m\u001b[0;34m[\u001b[0m\u001b[0ms\u001b[0m\u001b[0;34m]\u001b[0m \u001b[0;34m=\u001b[0m \u001b[0mV\u001b[0m\u001b[0;34m[\u001b[0m\u001b[0;36m1\u001b[0m\u001b[0;34m]\u001b[0m\u001b[0;34m[\u001b[0m\u001b[0;36m2\u001b[0m\u001b[0;34m]\u001b[0m\u001b[0;34m\u001b[0m\u001b[0;34m\u001b[0m\u001b[0m\n",
      "\u001b[0;31mOverflowError\u001b[0m: Python int too large to convert to C long"
     ]
    }
   ],
   "source": [
    "for s in range(1,n):\n",
    "    # span for next time step\n",
    "    tspan = [t[s-1],t[s]]\n",
    "    # solve for next step\n",
    "    V = odeint(Model,V0,tspan,args=(U[s-1],))\n",
    "    # store solution for plotting\n",
    "    Vr[s] = V[1][0]\n",
    "    Vϕ[s] = V[1][1]\n",
    "    Bϕ[s] = V[1][2]\n",
    "    # next initial condition\n",
    "    V0 = V[1]\n",
    "    U[s] = Vr[s]\n",
    "#     U[s] = 1/(np.sqrt(1 - (Vr[s]**2 + Vϕ[s]**2)))     "
   ]
  },
  {
   "cell_type": "code",
   "execution_count": 9,
   "id": "1e6101b2",
   "metadata": {},
   "outputs": [
    {
     "data": {
      "text/plain": [
       "array([                  0, 2724351969108088832, 2772903961142721536,\n",
       "       7914600242062776320,                 168,                   0,\n",
       "                         0,                   0,                   0,\n",
       "          9007405420642390,   12948055089217597,    2815003173453873,\n",
       "          9007405477462102,   12948055089217597,   16607264147308601,\n",
       "         13515012249354250,   13792411301773344,    2815003173584997,\n",
       "         17170111021449302,   32088516718166048,   24206985438953520,\n",
       "          9007388236448725,   26177379056812098,   30962384879419402,\n",
       "         28429393561714805,   28710924367954034,   30681223440629792,\n",
       "         31244203453317221,   32370120545140841,   17170111025512458,\n",
       "          2814955929075744,   29555370772922403,   31525334837166189,\n",
       "         32651569751720047,    9007697471602803,   31525669840093245,\n",
       "         30962698416816174,   27866439313522803,   13511009338130533,\n",
       "         13511005043753004,    2814925867974700,   32369759762972682,\n",
       "         28429462281322612,   30399774233657376,   31244173394051189,\n",
       "         32088516712857710,   30962384881123360,   30681206256173168,\n",
       "         26740642486157424,   28429432216158316,    2814925868367912,\n",
       "         17170111082594390,   12948329972236320,   32651578341916773,\n",
       "         29555336417312889,   32651269103747179,  276127235621650473,\n",
       "         30962384881123360,   30681206256173168,   26740642486157424,\n",
       "         28429432216158316,    2814925868367912,    9007461249843285,\n",
       "         28429170223612014,   34058970405535853,   30118273486684255,\n",
       "         11540972263964773,   32088516712857610,    9007598689845339,\n",
       "         13511168251396157,    2815149202210907,   13511189788426326,\n",
       "          9007461249843293,   13792664703991894,  276127235621650525,\n",
       "          9007598689845339,   13511168251396157,    2815149202341979,\n",
       "         26177378998485077,   13792411301773344,   31525669840617519,\n",
       "         32088632683855918,    9007409710760052,   24207019797905453,\n",
       "         26177378998485106,    9007414005858346,  276127321522438187,\n",
       "         11822348456951899,   11540650142072874,                  41])"
      ]
     },
     "execution_count": 9,
     "metadata": {},
     "output_type": "execute_result"
    }
   ],
   "source": [
    "Vr"
   ]
  },
  {
   "cell_type": "code",
   "execution_count": 6,
   "id": "2f74bcaa",
   "metadata": {},
   "outputs": [
    {
     "data": {
      "image/png": "[encoded data removed]",
      "text/plain": [
       "<Figure size 640x480 with 1 Axes>"
      ]
     },
     "metadata": {},
     "output_type": "display_data"
    }
   ],
   "source": [
    "plt.plot(t,Vr)\n",
    "plt.show()"
   ]
  },
  {
   "cell_type": "code",
   "execution_count": 6,
   "id": "e2b1c59b",
   "metadata": {},
   "outputs": [
    {
     "data": {
      "image/png": "[encoded data removed]",
      "text/plain": [
       "<Figure size 640x480 with 1 Axes>"
      ]
     },
     "metadata": {},
     "output_type": "display_data"
    }
   ],
   "source": [
    "plt.plot(t,Vϕ)\n",
    "plt.show()"
   ]
  },
  {
   "cell_type": "code",
   "execution_count": 7,
   "id": "f1130a26",
   "metadata": {},
   "outputs": [
    {
     "data": {
      "image/png": "[encoded data removed]",
      "text/plain": [
       "<Figure size 640x480 with 1 Axes>"
      ]
     },
     "metadata": {},
     "output_type": "display_data"
    }
   ],
   "source": [
    "plt.plot(t,Bϕ)\n",
    "plt.show()\n",
    "# Vr.shape"
   ]
  },
  {
   "cell_type": "code",
   "execution_count": null,
   "id": "dd9d0a05",
   "metadata": {},
   "outputs": [],
   "source": []
  }
 ],
 "metadata": {
  "kernelspec": {
   "display_name": "Python 3 (ipykernel)",
   "language": "python",
   "name": "python3"
  },
  "language_info": {
   "codemirror_mode": {
    "name": "ipython",
    "version": 3
   },
   "file_extension": ".py",
   "mimetype": "text/x-python",
   "name": "python",
   "nbconvert_exporter": "python",
   "pygments_lexer": "ipython3",
   "version": "3.9.13"
  }
 },
 "nbformat": 4,
 "nbformat_minor": 5
}
